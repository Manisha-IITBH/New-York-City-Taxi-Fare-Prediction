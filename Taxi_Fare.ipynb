{
 "cells": [
  {
   "cell_type": "code",
   "execution_count": 1,
   "id": "51806485",
   "metadata": {},
   "outputs": [],
   "source": [
    "import pandas as pd \n",
    "import numpy as np\n",
    "import math\n",
    "from numpy.linalg import linalg\n",
    "import matplotlib.pyplot as plt\n",
    "import os\n",
    "import plotly.express as px\n",
    "import seaborn as sns"
   ]
  },
  {
   "cell_type": "code",
   "execution_count": 2,
   "id": "e0b4ea09",
   "metadata": {},
   "outputs": [],
   "source": [
    "train = pd.read_csv('data/train_NYTaxi.csv').drop(columns = ['Index'])"
   ]
  },
  {
   "cell_type": "code",
   "execution_count": 3,
   "id": "33cc06c2",
   "metadata": {},
   "outputs": [
    {
     "data": {
      "text/html": [
       "<div>\n",
       "<style scoped>\n",
       "    .dataframe tbody tr th:only-of-type {\n",
       "        vertical-align: middle;\n",
       "    }\n",
       "\n",
       "    .dataframe tbody tr th {\n",
       "        vertical-align: top;\n",
       "    }\n",
       "\n",
       "    .dataframe thead th {\n",
       "        text-align: right;\n",
       "    }\n",
       "</style>\n",
       "<table border=\"1\" class=\"dataframe\">\n",
       "  <thead>\n",
       "    <tr style=\"text-align: right;\">\n",
       "      <th></th>\n",
       "      <th>key</th>\n",
       "      <th>fare_amount</th>\n",
       "      <th>pickup_datetime</th>\n",
       "      <th>pickup_longitude</th>\n",
       "      <th>pickup_latitude</th>\n",
       "      <th>dropoff_longitude</th>\n",
       "      <th>dropoff_latitude</th>\n",
       "      <th>passenger_count</th>\n",
       "    </tr>\n",
       "  </thead>\n",
       "  <tbody>\n",
       "    <tr>\n",
       "      <th>0</th>\n",
       "      <td>2009-04-08 19:11:10.0000004</td>\n",
       "      <td>4.9</td>\n",
       "      <td>2009-04-08 19:11:10 UTC</td>\n",
       "      <td>-73.998287</td>\n",
       "      <td>40.727490</td>\n",
       "      <td>-73.989854</td>\n",
       "      <td>40.735239</td>\n",
       "      <td>2</td>\n",
       "    </tr>\n",
       "    <tr>\n",
       "      <th>1</th>\n",
       "      <td>2012-07-30 16:19:08.0000003</td>\n",
       "      <td>4.9</td>\n",
       "      <td>2012-07-30 16:19:08 UTC</td>\n",
       "      <td>-73.966597</td>\n",
       "      <td>40.794345</td>\n",
       "      <td>-73.965682</td>\n",
       "      <td>40.803808</td>\n",
       "      <td>2</td>\n",
       "    </tr>\n",
       "    <tr>\n",
       "      <th>2</th>\n",
       "      <td>2011-02-22 13:35:00.000000121</td>\n",
       "      <td>6.9</td>\n",
       "      <td>2011-02-22 13:35:00 UTC</td>\n",
       "      <td>-73.971638</td>\n",
       "      <td>40.763382</td>\n",
       "      <td>-73.953767</td>\n",
       "      <td>40.783715</td>\n",
       "      <td>1</td>\n",
       "    </tr>\n",
       "    <tr>\n",
       "      <th>3</th>\n",
       "      <td>2010-10-07 21:09:35.0000002</td>\n",
       "      <td>14.1</td>\n",
       "      <td>2010-10-07 21:09:35 UTC</td>\n",
       "      <td>-74.003545</td>\n",
       "      <td>40.707399</td>\n",
       "      <td>-73.981312</td>\n",
       "      <td>40.750071</td>\n",
       "      <td>1</td>\n",
       "    </tr>\n",
       "    <tr>\n",
       "      <th>4</th>\n",
       "      <td>2009-10-02 22:51:00.000000140</td>\n",
       "      <td>12.1</td>\n",
       "      <td>2009-10-02 22:51:00 UTC</td>\n",
       "      <td>-74.004532</td>\n",
       "      <td>40.707465</td>\n",
       "      <td>-73.977908</td>\n",
       "      <td>40.745633</td>\n",
       "      <td>5</td>\n",
       "    </tr>\n",
       "  </tbody>\n",
       "</table>\n",
       "</div>"
      ],
      "text/plain": [
       "                             key  fare_amount          pickup_datetime  \\\n",
       "0    2009-04-08 19:11:10.0000004          4.9  2009-04-08 19:11:10 UTC   \n",
       "1    2012-07-30 16:19:08.0000003          4.9  2012-07-30 16:19:08 UTC   \n",
       "2  2011-02-22 13:35:00.000000121          6.9  2011-02-22 13:35:00 UTC   \n",
       "3    2010-10-07 21:09:35.0000002         14.1  2010-10-07 21:09:35 UTC   \n",
       "4  2009-10-02 22:51:00.000000140         12.1  2009-10-02 22:51:00 UTC   \n",
       "\n",
       "   pickup_longitude  pickup_latitude  dropoff_longitude  dropoff_latitude  \\\n",
       "0        -73.998287        40.727490         -73.989854         40.735239   \n",
       "1        -73.966597        40.794345         -73.965682         40.803808   \n",
       "2        -73.971638        40.763382         -73.953767         40.783715   \n",
       "3        -74.003545        40.707399         -73.981312         40.750071   \n",
       "4        -74.004532        40.707465         -73.977908         40.745633   \n",
       "\n",
       "   passenger_count  \n",
       "0                2  \n",
       "1                2  \n",
       "2                1  \n",
       "3                1  \n",
       "4                5  "
      ]
     },
     "execution_count": 3,
     "metadata": {},
     "output_type": "execute_result"
    }
   ],
   "source": [
    "train.head()"
   ]
  },
  {
   "cell_type": "code",
   "execution_count": 4,
   "id": "11545068",
   "metadata": {},
   "outputs": [
    {
     "name": "stdout",
     "output_type": "stream",
     "text": [
      "<class 'pandas.core.frame.DataFrame'>\n",
      "RangeIndex: 100000 entries, 0 to 99999\n",
      "Data columns (total 8 columns):\n",
      " #   Column             Non-Null Count   Dtype  \n",
      "---  ------             --------------   -----  \n",
      " 0   key                100000 non-null  object \n",
      " 1   fare_amount        100000 non-null  float64\n",
      " 2   pickup_datetime    100000 non-null  object \n",
      " 3   pickup_longitude   100000 non-null  float64\n",
      " 4   pickup_latitude    100000 non-null  float64\n",
      " 5   dropoff_longitude  100000 non-null  float64\n",
      " 6   dropoff_latitude   100000 non-null  float64\n",
      " 7   passenger_count    100000 non-null  int64  \n",
      "dtypes: float64(5), int64(1), object(2)\n",
      "memory usage: 6.1+ MB\n"
     ]
    }
   ],
   "source": [
    "train.info()"
   ]
  },
  {
   "cell_type": "code",
   "execution_count": 5,
   "id": "62bd008e",
   "metadata": {},
   "outputs": [
    {
     "data": {
      "text/plain": [
       "key                  0\n",
       "fare_amount          0\n",
       "pickup_datetime      0\n",
       "pickup_longitude     0\n",
       "pickup_latitude      0\n",
       "dropoff_longitude    0\n",
       "dropoff_latitude     0\n",
       "passenger_count      0\n",
       "dtype: int64"
      ]
     },
     "execution_count": 5,
     "metadata": {},
     "output_type": "execute_result"
    }
   ],
   "source": [
    "train.isnull().sum()"
   ]
  },
  {
   "cell_type": "code",
   "execution_count": 6,
   "id": "aba461f2",
   "metadata": {},
   "outputs": [
    {
     "data": {
      "text/plain": [
       "key                  0\n",
       "fare_amount          0\n",
       "pickup_datetime      0\n",
       "pickup_longitude     0\n",
       "pickup_latitude      0\n",
       "dropoff_longitude    0\n",
       "dropoff_latitude     0\n",
       "passenger_count      0\n",
       "dtype: int64"
      ]
     },
     "execution_count": 6,
     "metadata": {},
     "output_type": "execute_result"
    }
   ],
   "source": [
    "train.isna().sum()"
   ]
  },
  {
   "cell_type": "code",
   "execution_count": 7,
   "id": "ae160f13",
   "metadata": {},
   "outputs": [
    {
     "data": {
      "text/html": [
       "<div>\n",
       "<style scoped>\n",
       "    .dataframe tbody tr th:only-of-type {\n",
       "        vertical-align: middle;\n",
       "    }\n",
       "\n",
       "    .dataframe tbody tr th {\n",
       "        vertical-align: top;\n",
       "    }\n",
       "\n",
       "    .dataframe thead th {\n",
       "        text-align: right;\n",
       "    }\n",
       "</style>\n",
       "<table border=\"1\" class=\"dataframe\">\n",
       "  <thead>\n",
       "    <tr style=\"text-align: right;\">\n",
       "      <th></th>\n",
       "      <th>fare_amount</th>\n",
       "      <th>pickup_longitude</th>\n",
       "      <th>pickup_latitude</th>\n",
       "      <th>dropoff_longitude</th>\n",
       "      <th>dropoff_latitude</th>\n",
       "      <th>passenger_count</th>\n",
       "    </tr>\n",
       "  </thead>\n",
       "  <tbody>\n",
       "    <tr>\n",
       "      <th>count</th>\n",
       "      <td>100000.000000</td>\n",
       "      <td>100000.000000</td>\n",
       "      <td>100000.000000</td>\n",
       "      <td>100000.000000</td>\n",
       "      <td>100000.000000</td>\n",
       "      <td>100000.000000</td>\n",
       "    </tr>\n",
       "    <tr>\n",
       "      <th>mean</th>\n",
       "      <td>11.333564</td>\n",
       "      <td>-72.448815</td>\n",
       "      <td>39.887315</td>\n",
       "      <td>-72.479259</td>\n",
       "      <td>39.890066</td>\n",
       "      <td>1.682150</td>\n",
       "    </tr>\n",
       "    <tr>\n",
       "      <th>std</th>\n",
       "      <td>9.810826</td>\n",
       "      <td>10.869743</td>\n",
       "      <td>6.383817</td>\n",
       "      <td>12.774264</td>\n",
       "      <td>6.260724</td>\n",
       "      <td>1.308617</td>\n",
       "    </tr>\n",
       "    <tr>\n",
       "      <th>min</th>\n",
       "      <td>-9.300000</td>\n",
       "      <td>-736.516667</td>\n",
       "      <td>-74.015935</td>\n",
       "      <td>-2319.633333</td>\n",
       "      <td>-74.011085</td>\n",
       "      <td>0.000000</td>\n",
       "    </tr>\n",
       "    <tr>\n",
       "      <th>25%</th>\n",
       "      <td>6.000000</td>\n",
       "      <td>-73.992133</td>\n",
       "      <td>40.734793</td>\n",
       "      <td>-73.991443</td>\n",
       "      <td>40.734034</td>\n",
       "      <td>1.000000</td>\n",
       "    </tr>\n",
       "    <tr>\n",
       "      <th>50%</th>\n",
       "      <td>8.500000</td>\n",
       "      <td>-73.981850</td>\n",
       "      <td>40.752464</td>\n",
       "      <td>-73.980214</td>\n",
       "      <td>40.753093</td>\n",
       "      <td>1.000000</td>\n",
       "    </tr>\n",
       "    <tr>\n",
       "      <th>75%</th>\n",
       "      <td>12.500000</td>\n",
       "      <td>-73.967172</td>\n",
       "      <td>40.767032</td>\n",
       "      <td>-73.963718</td>\n",
       "      <td>40.768042</td>\n",
       "      <td>2.000000</td>\n",
       "    </tr>\n",
       "    <tr>\n",
       "      <th>max</th>\n",
       "      <td>394.000000</td>\n",
       "      <td>40.801777</td>\n",
       "      <td>404.666667</td>\n",
       "      <td>40.787037</td>\n",
       "      <td>44.640672</td>\n",
       "      <td>6.000000</td>\n",
       "    </tr>\n",
       "  </tbody>\n",
       "</table>\n",
       "</div>"
      ],
      "text/plain": [
       "         fare_amount  pickup_longitude  pickup_latitude  dropoff_longitude  \\\n",
       "count  100000.000000     100000.000000    100000.000000      100000.000000   \n",
       "mean       11.333564        -72.448815        39.887315         -72.479259   \n",
       "std         9.810826         10.869743         6.383817          12.774264   \n",
       "min        -9.300000       -736.516667       -74.015935       -2319.633333   \n",
       "25%         6.000000        -73.992133        40.734793         -73.991443   \n",
       "50%         8.500000        -73.981850        40.752464         -73.980214   \n",
       "75%        12.500000        -73.967172        40.767032         -73.963718   \n",
       "max       394.000000         40.801777       404.666667          40.787037   \n",
       "\n",
       "       dropoff_latitude  passenger_count  \n",
       "count     100000.000000    100000.000000  \n",
       "mean          39.890066         1.682150  \n",
       "std            6.260724         1.308617  \n",
       "min          -74.011085         0.000000  \n",
       "25%           40.734034         1.000000  \n",
       "50%           40.753093         1.000000  \n",
       "75%           40.768042         2.000000  \n",
       "max           44.640672         6.000000  "
      ]
     },
     "execution_count": 7,
     "metadata": {},
     "output_type": "execute_result"
    }
   ],
   "source": [
    "train.describe()"
   ]
  },
  {
   "cell_type": "markdown",
   "id": "e533ab5a",
   "metadata": {},
   "source": [
    "As we can see above that some of the fare is below zero and some of the passenger count is also zero. These all values should not exist and so rows with such enrtries should be dropped. \n",
    "\n",
    "Similarly, the longitude should be between -180 and +180 while the lattitude should be between -90 and +90.\n",
    "\n",
    "So we will have to drop all rows with the above voilations."
   ]
  },
  {
   "cell_type": "code",
   "execution_count": 8,
   "id": "fb70af74",
   "metadata": {},
   "outputs": [],
   "source": [
    "from collections import Counter"
   ]
  },
  {
   "cell_type": "code",
   "execution_count": 9,
   "id": "732571eb",
   "metadata": {},
   "outputs": [
    {
     "data": {
      "text/plain": [
       "Counter({False: 99994, True: 6})"
      ]
     },
     "execution_count": 9,
     "metadata": {},
     "output_type": "execute_result"
    }
   ],
   "source": [
    "Counter(train['fare_amount'] <= 0)  # since fare is never zero for a certain distance"
   ]
  },
  {
   "cell_type": "code",
   "execution_count": 10,
   "id": "ec6923fa",
   "metadata": {},
   "outputs": [],
   "source": [
    "train.drop(train[train['fare_amount'] <= 0].index, inplace = True, axis = 0)"
   ]
  },
  {
   "cell_type": "code",
   "execution_count": 11,
   "id": "7a553799",
   "metadata": {},
   "outputs": [
    {
     "data": {
      "text/plain": [
       "(99994, 8)"
      ]
     },
     "execution_count": 11,
     "metadata": {},
     "output_type": "execute_result"
    }
   ],
   "source": [
    "train.shape"
   ]
  },
  {
   "cell_type": "code",
   "execution_count": 12,
   "id": "85675cdf",
   "metadata": {},
   "outputs": [
    {
     "data": {
      "text/plain": [
       "Counter({False: 99993, True: 1})"
      ]
     },
     "execution_count": 12,
     "metadata": {},
     "output_type": "execute_result"
    }
   ],
   "source": [
    "Counter(train['pickup_latitude'] > 90)"
   ]
  },
  {
   "cell_type": "code",
   "execution_count": 13,
   "id": "44558ed8",
   "metadata": {},
   "outputs": [
    {
     "data": {
      "text/plain": [
       "Counter({False: 99994})"
      ]
     },
     "execution_count": 13,
     "metadata": {},
     "output_type": "execute_result"
    }
   ],
   "source": [
    "Counter(train['dropoff_latitude'] > 90)"
   ]
  },
  {
   "cell_type": "code",
   "execution_count": 14,
   "id": "3390ccb7",
   "metadata": {},
   "outputs": [
    {
     "data": {
      "text/plain": [
       "Counter({False: 99994})"
      ]
     },
     "execution_count": 14,
     "metadata": {},
     "output_type": "execute_result"
    }
   ],
   "source": [
    "Counter(train['pickup_latitude'] < -90)"
   ]
  },
  {
   "cell_type": "code",
   "execution_count": 15,
   "id": "9f82aeb2",
   "metadata": {},
   "outputs": [
    {
     "data": {
      "text/plain": [
       "Counter({False: 99994})"
      ]
     },
     "execution_count": 15,
     "metadata": {},
     "output_type": "execute_result"
    }
   ],
   "source": [
    "Counter(train['dropoff_latitude'] < -90)"
   ]
  },
  {
   "cell_type": "code",
   "execution_count": 16,
   "id": "5c5a38a7",
   "metadata": {},
   "outputs": [
    {
     "data": {
      "text/plain": [
       "Counter({False: 99994})"
      ]
     },
     "execution_count": 16,
     "metadata": {},
     "output_type": "execute_result"
    }
   ],
   "source": [
    "Counter(train['pickup_longitude'] > 180)"
   ]
  },
  {
   "cell_type": "code",
   "execution_count": 17,
   "id": "552806ae",
   "metadata": {},
   "outputs": [
    {
     "data": {
      "text/plain": [
       "Counter({False: 99993, True: 1})"
      ]
     },
     "execution_count": 17,
     "metadata": {},
     "output_type": "execute_result"
    }
   ],
   "source": [
    "Counter(train['pickup_longitude'] < -180)"
   ]
  },
  {
   "cell_type": "code",
   "execution_count": 18,
   "id": "a774e554",
   "metadata": {},
   "outputs": [
    {
     "data": {
      "text/plain": [
       "Counter({False: 99993, True: 1})"
      ]
     },
     "execution_count": 18,
     "metadata": {},
     "output_type": "execute_result"
    }
   ],
   "source": [
    "Counter(train['dropoff_longitude'] < -180)"
   ]
  },
  {
   "cell_type": "code",
   "execution_count": 19,
   "id": "9c66f79a",
   "metadata": {},
   "outputs": [
    {
     "data": {
      "text/plain": [
       "Counter({False: 99994})"
      ]
     },
     "execution_count": 19,
     "metadata": {},
     "output_type": "execute_result"
    }
   ],
   "source": [
    "Counter(train['dropoff_longitude'] > 180)"
   ]
  },
  {
   "cell_type": "code",
   "execution_count": 20,
   "id": "4b7297e6",
   "metadata": {},
   "outputs": [],
   "source": [
    "train.drop(train[train['dropoff_longitude'] < -180].index, inplace = True, axis = 0)\n",
    "train.drop(train[train['pickup_longitude'] < -180].index, inplace = True, axis = 0)\n",
    "train.drop(train[train['pickup_latitude'] > 90].index, inplace = True, axis = 0)"
   ]
  },
  {
   "cell_type": "code",
   "execution_count": 21,
   "id": "75a36549",
   "metadata": {},
   "outputs": [
    {
     "data": {
      "text/html": [
       "<div>\n",
       "<style scoped>\n",
       "    .dataframe tbody tr th:only-of-type {\n",
       "        vertical-align: middle;\n",
       "    }\n",
       "\n",
       "    .dataframe tbody tr th {\n",
       "        vertical-align: top;\n",
       "    }\n",
       "\n",
       "    .dataframe thead th {\n",
       "        text-align: right;\n",
       "    }\n",
       "</style>\n",
       "<table border=\"1\" class=\"dataframe\">\n",
       "  <thead>\n",
       "    <tr style=\"text-align: right;\">\n",
       "      <th></th>\n",
       "      <th>fare_amount</th>\n",
       "      <th>pickup_longitude</th>\n",
       "      <th>pickup_latitude</th>\n",
       "      <th>dropoff_longitude</th>\n",
       "      <th>dropoff_latitude</th>\n",
       "      <th>passenger_count</th>\n",
       "    </tr>\n",
       "  </thead>\n",
       "  <tbody>\n",
       "    <tr>\n",
       "      <th>count</th>\n",
       "      <td>99991.000000</td>\n",
       "      <td>99991.000000</td>\n",
       "      <td>99991.000000</td>\n",
       "      <td>99991.000000</td>\n",
       "      <td>99991.000000</td>\n",
       "      <td>99991.000000</td>\n",
       "    </tr>\n",
       "    <tr>\n",
       "      <th>mean</th>\n",
       "      <td>11.334412</td>\n",
       "      <td>-72.442053</td>\n",
       "      <td>39.883597</td>\n",
       "      <td>-72.456668</td>\n",
       "      <td>39.890394</td>\n",
       "      <td>1.682121</td>\n",
       "    </tr>\n",
       "    <tr>\n",
       "      <th>std</th>\n",
       "      <td>9.810524</td>\n",
       "      <td>10.665431</td>\n",
       "      <td>6.279008</td>\n",
       "      <td>10.615732</td>\n",
       "      <td>6.259731</td>\n",
       "      <td>1.308581</td>\n",
       "    </tr>\n",
       "    <tr>\n",
       "      <th>min</th>\n",
       "      <td>0.010000</td>\n",
       "      <td>-121.391202</td>\n",
       "      <td>-74.015935</td>\n",
       "      <td>-121.391318</td>\n",
       "      <td>-74.011085</td>\n",
       "      <td>0.000000</td>\n",
       "    </tr>\n",
       "    <tr>\n",
       "      <th>25%</th>\n",
       "      <td>6.000000</td>\n",
       "      <td>-73.992133</td>\n",
       "      <td>40.734791</td>\n",
       "      <td>-73.991443</td>\n",
       "      <td>40.734034</td>\n",
       "      <td>1.000000</td>\n",
       "    </tr>\n",
       "    <tr>\n",
       "      <th>50%</th>\n",
       "      <td>8.500000</td>\n",
       "      <td>-73.981850</td>\n",
       "      <td>40.752462</td>\n",
       "      <td>-73.980215</td>\n",
       "      <td>40.753087</td>\n",
       "      <td>1.000000</td>\n",
       "    </tr>\n",
       "    <tr>\n",
       "      <th>75%</th>\n",
       "      <td>12.500000</td>\n",
       "      <td>-73.967173</td>\n",
       "      <td>40.767032</td>\n",
       "      <td>-73.963723</td>\n",
       "      <td>40.768042</td>\n",
       "      <td>2.000000</td>\n",
       "    </tr>\n",
       "    <tr>\n",
       "      <th>max</th>\n",
       "      <td>394.000000</td>\n",
       "      <td>40.801777</td>\n",
       "      <td>42.603366</td>\n",
       "      <td>40.787037</td>\n",
       "      <td>44.640672</td>\n",
       "      <td>6.000000</td>\n",
       "    </tr>\n",
       "  </tbody>\n",
       "</table>\n",
       "</div>"
      ],
      "text/plain": [
       "        fare_amount  pickup_longitude  pickup_latitude  dropoff_longitude  \\\n",
       "count  99991.000000      99991.000000     99991.000000       99991.000000   \n",
       "mean      11.334412        -72.442053        39.883597         -72.456668   \n",
       "std        9.810524         10.665431         6.279008          10.615732   \n",
       "min        0.010000       -121.391202       -74.015935        -121.391318   \n",
       "25%        6.000000        -73.992133        40.734791         -73.991443   \n",
       "50%        8.500000        -73.981850        40.752462         -73.980215   \n",
       "75%       12.500000        -73.967173        40.767032         -73.963723   \n",
       "max      394.000000         40.801777        42.603366          40.787037   \n",
       "\n",
       "       dropoff_latitude  passenger_count  \n",
       "count      99991.000000     99991.000000  \n",
       "mean          39.890394         1.682121  \n",
       "std            6.259731         1.308581  \n",
       "min          -74.011085         0.000000  \n",
       "25%           40.734034         1.000000  \n",
       "50%           40.753087         1.000000  \n",
       "75%           40.768042         2.000000  \n",
       "max           44.640672         6.000000  "
      ]
     },
     "execution_count": 21,
     "metadata": {},
     "output_type": "execute_result"
    }
   ],
   "source": [
    "train.describe()"
   ]
  },
  {
   "cell_type": "code",
   "execution_count": 22,
   "id": "1e1345ca",
   "metadata": {},
   "outputs": [
    {
     "data": {
      "text/plain": [
       "Counter({False: 99622, True: 369})"
      ]
     },
     "execution_count": 22,
     "metadata": {},
     "output_type": "execute_result"
    }
   ],
   "source": [
    "Counter(train['passenger_count'] == 0)"
   ]
  },
  {
   "cell_type": "code",
   "execution_count": 23,
   "id": "a0108c85",
   "metadata": {},
   "outputs": [],
   "source": [
    "train.drop(train[train['passenger_count'] == 0].index, inplace = True, axis = 0)"
   ]
  },
  {
   "cell_type": "code",
   "execution_count": 24,
   "id": "e775a3bd",
   "metadata": {},
   "outputs": [
    {
     "data": {
      "text/plain": [
       "(99622, 8)"
      ]
     },
     "execution_count": 24,
     "metadata": {},
     "output_type": "execute_result"
    }
   ],
   "source": [
    "train.shape"
   ]
  },
  {
   "cell_type": "code",
   "execution_count": 25,
   "id": "d21d2727",
   "metadata": {},
   "outputs": [
    {
     "data": {
      "text/html": [
       "<div>\n",
       "<style scoped>\n",
       "    .dataframe tbody tr th:only-of-type {\n",
       "        vertical-align: middle;\n",
       "    }\n",
       "\n",
       "    .dataframe tbody tr th {\n",
       "        vertical-align: top;\n",
       "    }\n",
       "\n",
       "    .dataframe thead th {\n",
       "        text-align: right;\n",
       "    }\n",
       "</style>\n",
       "<table border=\"1\" class=\"dataframe\">\n",
       "  <thead>\n",
       "    <tr style=\"text-align: right;\">\n",
       "      <th></th>\n",
       "      <th>fare_amount</th>\n",
       "      <th>pickup_longitude</th>\n",
       "      <th>pickup_latitude</th>\n",
       "      <th>dropoff_longitude</th>\n",
       "      <th>dropoff_latitude</th>\n",
       "      <th>passenger_count</th>\n",
       "    </tr>\n",
       "  </thead>\n",
       "  <tbody>\n",
       "    <tr>\n",
       "      <th>count</th>\n",
       "      <td>99622.000000</td>\n",
       "      <td>99622.000000</td>\n",
       "      <td>99622.000000</td>\n",
       "      <td>99622.000000</td>\n",
       "      <td>99622.000000</td>\n",
       "      <td>99622.000000</td>\n",
       "    </tr>\n",
       "    <tr>\n",
       "      <th>mean</th>\n",
       "      <td>11.342516</td>\n",
       "      <td>-72.440074</td>\n",
       "      <td>39.882427</td>\n",
       "      <td>-72.455499</td>\n",
       "      <td>39.889650</td>\n",
       "      <td>1.688352</td>\n",
       "    </tr>\n",
       "    <tr>\n",
       "      <th>std</th>\n",
       "      <td>9.821215</td>\n",
       "      <td>10.672429</td>\n",
       "      <td>6.284058</td>\n",
       "      <td>10.620103</td>\n",
       "      <td>6.263451</td>\n",
       "      <td>1.306984</td>\n",
       "    </tr>\n",
       "    <tr>\n",
       "      <th>min</th>\n",
       "      <td>0.010000</td>\n",
       "      <td>-121.391202</td>\n",
       "      <td>-74.015935</td>\n",
       "      <td>-121.391318</td>\n",
       "      <td>-74.011085</td>\n",
       "      <td>1.000000</td>\n",
       "    </tr>\n",
       "    <tr>\n",
       "      <th>25%</th>\n",
       "      <td>6.000000</td>\n",
       "      <td>-73.992133</td>\n",
       "      <td>40.734777</td>\n",
       "      <td>-73.991443</td>\n",
       "      <td>40.734021</td>\n",
       "      <td>1.000000</td>\n",
       "    </tr>\n",
       "    <tr>\n",
       "      <th>50%</th>\n",
       "      <td>8.500000</td>\n",
       "      <td>-73.981851</td>\n",
       "      <td>40.752457</td>\n",
       "      <td>-73.980215</td>\n",
       "      <td>40.753081</td>\n",
       "      <td>1.000000</td>\n",
       "    </tr>\n",
       "    <tr>\n",
       "      <th>75%</th>\n",
       "      <td>12.500000</td>\n",
       "      <td>-73.967171</td>\n",
       "      <td>40.767024</td>\n",
       "      <td>-73.963724</td>\n",
       "      <td>40.768036</td>\n",
       "      <td>2.000000</td>\n",
       "    </tr>\n",
       "    <tr>\n",
       "      <th>max</th>\n",
       "      <td>394.000000</td>\n",
       "      <td>40.801777</td>\n",
       "      <td>42.603366</td>\n",
       "      <td>40.787037</td>\n",
       "      <td>44.640672</td>\n",
       "      <td>6.000000</td>\n",
       "    </tr>\n",
       "  </tbody>\n",
       "</table>\n",
       "</div>"
      ],
      "text/plain": [
       "        fare_amount  pickup_longitude  pickup_latitude  dropoff_longitude  \\\n",
       "count  99622.000000      99622.000000     99622.000000       99622.000000   \n",
       "mean      11.342516        -72.440074        39.882427         -72.455499   \n",
       "std        9.821215         10.672429         6.284058          10.620103   \n",
       "min        0.010000       -121.391202       -74.015935        -121.391318   \n",
       "25%        6.000000        -73.992133        40.734777         -73.991443   \n",
       "50%        8.500000        -73.981851        40.752457         -73.980215   \n",
       "75%       12.500000        -73.967171        40.767024         -73.963724   \n",
       "max      394.000000         40.801777        42.603366          40.787037   \n",
       "\n",
       "       dropoff_latitude  passenger_count  \n",
       "count      99622.000000     99622.000000  \n",
       "mean          39.889650         1.688352  \n",
       "std            6.263451         1.306984  \n",
       "min          -74.011085         1.000000  \n",
       "25%           40.734021         1.000000  \n",
       "50%           40.753081         1.000000  \n",
       "75%           40.768036         2.000000  \n",
       "max           44.640672         6.000000  "
      ]
     },
     "execution_count": 25,
     "metadata": {},
     "output_type": "execute_result"
    }
   ],
   "source": [
    "train.describe()"
   ]
  },
  {
   "cell_type": "code",
   "execution_count": 26,
   "id": "75b16b4d",
   "metadata": {},
   "outputs": [
    {
     "data": {
      "text/plain": [
       "Counter({2: 14716, 1: 69310, 5: 7063, 6: 2136, 3: 4264, 4: 2133})"
      ]
     },
     "execution_count": 26,
     "metadata": {},
     "output_type": "execute_result"
    }
   ],
   "source": [
    "Counter(train['passenger_count'])"
   ]
  },
  {
   "cell_type": "code",
   "execution_count": 27,
   "id": "23083ad5",
   "metadata": {},
   "outputs": [
    {
     "data": {
      "image/png": "[encoded data removed]",
      "text/plain": [
       "<Figure size 1440x1440 with 6 Axes>"
      ]
     },
     "metadata": {
      "needs_background": "light"
     },
     "output_type": "display_data"
    }
   ],
   "source": [
    "train.hist(bins=20, figsize=(20,20))\n",
    "plt.show()"
   ]
  },
  {
   "cell_type": "markdown",
   "id": "03d77d53",
   "metadata": {},
   "source": [
    "### Anomally detected !\n",
    "\n",
    "As we can see above that the longitide and lattitude in some of the locations is zero. And if we go to (0,0) on globe (reference - https://gps-coordinates.org/latitude-and-longitude.php), we will land up in the ocean !\n",
    "\n",
    "Funnily enough, our data is taxi fare data and we don't have underwater cars yet ! \n",
    "\n",
    "Also, another illogical thing is that the pickup coordinates should not be the same as dropoff coordinates. \n",
    "\n",
    "Its not a fake-taxi afterall !\n",
    "\n",
    "So we will have to drop these rows"
   ]
  },
  {
   "cell_type": "code",
   "execution_count": 28,
   "id": "b797b044",
   "metadata": {},
   "outputs": [
    {
     "data": {
      "text/plain": [
       "(2859, 8)"
      ]
     },
     "execution_count": 28,
     "metadata": {},
     "output_type": "execute_result"
    }
   ],
   "source": [
    "train.loc[\n",
    "    (train['pickup_latitude'] == 0) & (train['dropoff_latitude'] == 0) | \n",
    "    (train['pickup_longitude'] == 0) & (train['dropoff_longitude'] == 0) |\n",
    "    ((train['pickup_latitude'] == train['dropoff_latitude']) & (train['pickup_longitude'] == train['dropoff_longitude']))\n",
    "].shape"
   ]
  },
  {
   "cell_type": "code",
   "execution_count": 29,
   "id": "8a702f9e",
   "metadata": {},
   "outputs": [],
   "source": [
    "train.drop(train.loc[\n",
    "    (train['pickup_latitude'] == 0) & (train['dropoff_latitude'] == 0) | \n",
    "    (train['pickup_longitude'] == 0) & (train['dropoff_longitude'] == 0) |\n",
    "    ((train['pickup_latitude'] == train['dropoff_latitude']) & (train['pickup_longitude'] == train['dropoff_longitude']))\n",
    "].index , axis = 0, inplace = True)"
   ]
  },
  {
   "cell_type": "code",
   "execution_count": 30,
   "id": "0a9bbeb7",
   "metadata": {},
   "outputs": [
    {
     "data": {
      "text/plain": [
       "(96763, 8)"
      ]
     },
     "execution_count": 30,
     "metadata": {},
     "output_type": "execute_result"
    }
   ],
   "source": [
    "train.shape"
   ]
  },
  {
   "cell_type": "code",
   "execution_count": 31,
   "id": "610ff97c",
   "metadata": {},
   "outputs": [],
   "source": [
    "train['key'] = pd.to_datetime(train['key'])\n",
    "train['pickup_datetime']  = pd.to_datetime(train['pickup_datetime'])"
   ]
  },
  {
   "cell_type": "code",
   "execution_count": 32,
   "id": "f880f768",
   "metadata": {},
   "outputs": [
    {
     "name": "stdout",
     "output_type": "stream",
     "text": [
      "<class 'pandas.core.frame.DataFrame'>\n",
      "Int64Index: 96763 entries, 0 to 99999\n",
      "Data columns (total 8 columns):\n",
      " #   Column             Non-Null Count  Dtype              \n",
      "---  ------             --------------  -----              \n",
      " 0   key                96763 non-null  datetime64[ns]     \n",
      " 1   fare_amount        96763 non-null  float64            \n",
      " 2   pickup_datetime    96763 non-null  datetime64[ns, UTC]\n",
      " 3   pickup_longitude   96763 non-null  float64            \n",
      " 4   pickup_latitude    96763 non-null  float64            \n",
      " 5   dropoff_longitude  96763 non-null  float64            \n",
      " 6   dropoff_latitude   96763 non-null  float64            \n",
      " 7   passenger_count    96763 non-null  int64              \n",
      "dtypes: datetime64[ns, UTC](1), datetime64[ns](1), float64(5), int64(1)\n",
      "memory usage: 6.6 MB\n"
     ]
    }
   ],
   "source": [
    "train.info()"
   ]
  },
  {
   "cell_type": "code",
   "execution_count": 33,
   "id": "1fb195e5",
   "metadata": {},
   "outputs": [
    {
     "data": {
      "text/html": [
       "<div>\n",
       "<style scoped>\n",
       "    .dataframe tbody tr th:only-of-type {\n",
       "        vertical-align: middle;\n",
       "    }\n",
       "\n",
       "    .dataframe tbody tr th {\n",
       "        vertical-align: top;\n",
       "    }\n",
       "\n",
       "    .dataframe thead th {\n",
       "        text-align: right;\n",
       "    }\n",
       "</style>\n",
       "<table border=\"1\" class=\"dataframe\">\n",
       "  <thead>\n",
       "    <tr style=\"text-align: right;\">\n",
       "      <th></th>\n",
       "      <th>key</th>\n",
       "      <th>fare_amount</th>\n",
       "      <th>pickup_datetime</th>\n",
       "      <th>pickup_longitude</th>\n",
       "      <th>pickup_latitude</th>\n",
       "      <th>dropoff_longitude</th>\n",
       "      <th>dropoff_latitude</th>\n",
       "      <th>passenger_count</th>\n",
       "    </tr>\n",
       "  </thead>\n",
       "  <tbody>\n",
       "    <tr>\n",
       "      <th>0</th>\n",
       "      <td>2009-04-08 19:11:10.000000400</td>\n",
       "      <td>4.9</td>\n",
       "      <td>2009-04-08 19:11:10+00:00</td>\n",
       "      <td>-73.998287</td>\n",
       "      <td>40.727490</td>\n",
       "      <td>-73.989854</td>\n",
       "      <td>40.735239</td>\n",
       "      <td>2</td>\n",
       "    </tr>\n",
       "    <tr>\n",
       "      <th>1</th>\n",
       "      <td>2012-07-30 16:19:08.000000300</td>\n",
       "      <td>4.9</td>\n",
       "      <td>2012-07-30 16:19:08+00:00</td>\n",
       "      <td>-73.966597</td>\n",
       "      <td>40.794345</td>\n",
       "      <td>-73.965682</td>\n",
       "      <td>40.803808</td>\n",
       "      <td>2</td>\n",
       "    </tr>\n",
       "    <tr>\n",
       "      <th>2</th>\n",
       "      <td>2011-02-22 13:35:00.000000121</td>\n",
       "      <td>6.9</td>\n",
       "      <td>2011-02-22 13:35:00+00:00</td>\n",
       "      <td>-73.971638</td>\n",
       "      <td>40.763382</td>\n",
       "      <td>-73.953767</td>\n",
       "      <td>40.783715</td>\n",
       "      <td>1</td>\n",
       "    </tr>\n",
       "    <tr>\n",
       "      <th>3</th>\n",
       "      <td>2010-10-07 21:09:35.000000200</td>\n",
       "      <td>14.1</td>\n",
       "      <td>2010-10-07 21:09:35+00:00</td>\n",
       "      <td>-74.003545</td>\n",
       "      <td>40.707399</td>\n",
       "      <td>-73.981312</td>\n",
       "      <td>40.750071</td>\n",
       "      <td>1</td>\n",
       "    </tr>\n",
       "    <tr>\n",
       "      <th>4</th>\n",
       "      <td>2009-10-02 22:51:00.000000140</td>\n",
       "      <td>12.1</td>\n",
       "      <td>2009-10-02 22:51:00+00:00</td>\n",
       "      <td>-74.004532</td>\n",
       "      <td>40.707465</td>\n",
       "      <td>-73.977908</td>\n",
       "      <td>40.745633</td>\n",
       "      <td>5</td>\n",
       "    </tr>\n",
       "  </tbody>\n",
       "</table>\n",
       "</div>"
      ],
      "text/plain": [
       "                            key  fare_amount           pickup_datetime  \\\n",
       "0 2009-04-08 19:11:10.000000400          4.9 2009-04-08 19:11:10+00:00   \n",
       "1 2012-07-30 16:19:08.000000300          4.9 2012-07-30 16:19:08+00:00   \n",
       "2 2011-02-22 13:35:00.000000121          6.9 2011-02-22 13:35:00+00:00   \n",
       "3 2010-10-07 21:09:35.000000200         14.1 2010-10-07 21:09:35+00:00   \n",
       "4 2009-10-02 22:51:00.000000140         12.1 2009-10-02 22:51:00+00:00   \n",
       "\n",
       "   pickup_longitude  pickup_latitude  dropoff_longitude  dropoff_latitude  \\\n",
       "0        -73.998287        40.727490         -73.989854         40.735239   \n",
       "1        -73.966597        40.794345         -73.965682         40.803808   \n",
       "2        -73.971638        40.763382         -73.953767         40.783715   \n",
       "3        -74.003545        40.707399         -73.981312         40.750071   \n",
       "4        -74.004532        40.707465         -73.977908         40.745633   \n",
       "\n",
       "   passenger_count  \n",
       "0                2  \n",
       "1                2  \n",
       "2                1  \n",
       "3                1  \n",
       "4                5  "
      ]
     },
     "execution_count": 33,
     "metadata": {},
     "output_type": "execute_result"
    }
   ],
   "source": [
    "train.head()"
   ]
  },
  {
   "cell_type": "markdown",
   "id": "c9586336",
   "metadata": {},
   "source": [
    "Now, certain factors may affect the fare such as -\n",
    "Number of passengers, date and time of pickup, day of the week (weekends are usaully costlier in real life), distance travelled\n",
    "\n",
    "\n",
    "\n",
    "Let's work with distance first  - \n",
    "\n",
    "To calculate distance, we shall use the Haversine formula \n",
    "\n",
    "(reference - https://stackoverflow.com/questions/27928/calculate-distance-between-two-latitude-longitude-points-haversine-formula)\n",
    "\n",
    "function getDistanceFromLatLonInKm(lat1,lon1,lat2,lon2) {\n",
    "\n",
    "\n",
    "  var R = 6371; // Radius of the earth in km\n",
    "\n",
    "\n",
    "var dLat = deg2rad(lat2-lat1);  // deg2rad below\n",
    "\n",
    "\n",
    "var dLon = deg2rad(lon2-lon1); \n",
    "\n",
    "\n",
    "var a = \n",
    "\n",
    "\n",
    "Math.sin(dLat/2) * Math.sin(dLat/2) +\n",
    "\n",
    "\n",
    "Math.cos(deg2rad(lat1)) * Math.cos(deg2rad(lat2)) * \n",
    "\n",
    "\n",
    "Math.sin(dLon/2) * Math.sin(dLon/2)\n",
    "\n",
    "\n",
    "; \n",
    "\n",
    "\n",
    "var c = 2 * Math.atan2(Math.sqrt(a), Math.sqrt(1-a)); \n",
    "\n",
    "\n",
    "var d = R * c; // Distance in km\n",
    "\n",
    "\n",
    "return d;\n",
    "\n",
    "\n",
    "}\n",
    "\n",
    "\n",
    "\n",
    "function deg2rad(deg) {\n",
    "\n",
    "\n",
    "return deg * (Math.PI/180)\n",
    "\n",
    "\n",
    "}"
   ]
  },
  {
   "cell_type": "code",
   "execution_count": 34,
   "id": "7d5deb5f",
   "metadata": {},
   "outputs": [],
   "source": [
    "def HAV_dist(data , lat1, long1 , lat2, long2):\n",
    "    from math import cos, asin, sqrt, pi\n",
    "    \n",
    "    R,A1,A2 = 6371,np.radians(data[lat1]),np.radians(data[lat2])\n",
    "    \n",
    "    \n",
    "    diff_A = np.radians(data[lat2] - data[lat1])\n",
    "    diff_L = np.radians(data[long2] - data[long1])\n",
    "    \n",
    "    a = np.sin(diff_A/2.0)**2 + np.cos(A1)*np.cos(A2)*np.sin(diff_L/2.0)**2\n",
    "    c = 2*np.arctan2(np.sqrt(a), np.sqrt(1-a))\n",
    "    d = R*c\n",
    "    \n",
    "    data['distance'] = d\n",
    "    # The distance returned is in killometeres !\n",
    "    return d"
   ]
  },
  {
   "cell_type": "code",
   "execution_count": 35,
   "id": "0d552ee1",
   "metadata": {},
   "outputs": [
    {
     "data": {
      "text/html": [
       "<div>\n",
       "<style scoped>\n",
       "    .dataframe tbody tr th:only-of-type {\n",
       "        vertical-align: middle;\n",
       "    }\n",
       "\n",
       "    .dataframe tbody tr th {\n",
       "        vertical-align: top;\n",
       "    }\n",
       "\n",
       "    .dataframe thead th {\n",
       "        text-align: right;\n",
       "    }\n",
       "</style>\n",
       "<table border=\"1\" class=\"dataframe\">\n",
       "  <thead>\n",
       "    <tr style=\"text-align: right;\">\n",
       "      <th></th>\n",
       "      <th>key</th>\n",
       "      <th>fare_amount</th>\n",
       "      <th>pickup_datetime</th>\n",
       "      <th>pickup_longitude</th>\n",
       "      <th>pickup_latitude</th>\n",
       "      <th>dropoff_longitude</th>\n",
       "      <th>dropoff_latitude</th>\n",
       "      <th>passenger_count</th>\n",
       "      <th>distance</th>\n",
       "    </tr>\n",
       "  </thead>\n",
       "  <tbody>\n",
       "    <tr>\n",
       "      <th>0</th>\n",
       "      <td>2009-04-08 19:11:10.000000400</td>\n",
       "      <td>4.9</td>\n",
       "      <td>2009-04-08 19:11:10+00:00</td>\n",
       "      <td>-73.998287</td>\n",
       "      <td>40.727490</td>\n",
       "      <td>-73.989854</td>\n",
       "      <td>40.735239</td>\n",
       "      <td>2</td>\n",
       "      <td>1.116850</td>\n",
       "    </tr>\n",
       "    <tr>\n",
       "      <th>1</th>\n",
       "      <td>2012-07-30 16:19:08.000000300</td>\n",
       "      <td>4.9</td>\n",
       "      <td>2012-07-30 16:19:08+00:00</td>\n",
       "      <td>-73.966597</td>\n",
       "      <td>40.794345</td>\n",
       "      <td>-73.965682</td>\n",
       "      <td>40.803808</td>\n",
       "      <td>2</td>\n",
       "      <td>1.055053</td>\n",
       "    </tr>\n",
       "    <tr>\n",
       "      <th>2</th>\n",
       "      <td>2011-02-22 13:35:00.000000121</td>\n",
       "      <td>6.9</td>\n",
       "      <td>2011-02-22 13:35:00+00:00</td>\n",
       "      <td>-73.971638</td>\n",
       "      <td>40.763382</td>\n",
       "      <td>-73.953767</td>\n",
       "      <td>40.783715</td>\n",
       "      <td>1</td>\n",
       "      <td>2.715959</td>\n",
       "    </tr>\n",
       "    <tr>\n",
       "      <th>3</th>\n",
       "      <td>2010-10-07 21:09:35.000000200</td>\n",
       "      <td>14.1</td>\n",
       "      <td>2010-10-07 21:09:35+00:00</td>\n",
       "      <td>-74.003545</td>\n",
       "      <td>40.707399</td>\n",
       "      <td>-73.981312</td>\n",
       "      <td>40.750071</td>\n",
       "      <td>1</td>\n",
       "      <td>5.101370</td>\n",
       "    </tr>\n",
       "    <tr>\n",
       "      <th>4</th>\n",
       "      <td>2009-10-02 22:51:00.000000140</td>\n",
       "      <td>12.1</td>\n",
       "      <td>2009-10-02 22:51:00+00:00</td>\n",
       "      <td>-74.004532</td>\n",
       "      <td>40.707465</td>\n",
       "      <td>-73.977908</td>\n",
       "      <td>40.745633</td>\n",
       "      <td>5</td>\n",
       "      <td>4.800593</td>\n",
       "    </tr>\n",
       "  </tbody>\n",
       "</table>\n",
       "</div>"
      ],
      "text/plain": [
       "                            key  fare_amount           pickup_datetime  \\\n",
       "0 2009-04-08 19:11:10.000000400          4.9 2009-04-08 19:11:10+00:00   \n",
       "1 2012-07-30 16:19:08.000000300          4.9 2012-07-30 16:19:08+00:00   \n",
       "2 2011-02-22 13:35:00.000000121          6.9 2011-02-22 13:35:00+00:00   \n",
       "3 2010-10-07 21:09:35.000000200         14.1 2010-10-07 21:09:35+00:00   \n",
       "4 2009-10-02 22:51:00.000000140         12.1 2009-10-02 22:51:00+00:00   \n",
       "\n",
       "   pickup_longitude  pickup_latitude  dropoff_longitude  dropoff_latitude  \\\n",
       "0        -73.998287        40.727490         -73.989854         40.735239   \n",
       "1        -73.966597        40.794345         -73.965682         40.803808   \n",
       "2        -73.971638        40.763382         -73.953767         40.783715   \n",
       "3        -74.003545        40.707399         -73.981312         40.750071   \n",
       "4        -74.004532        40.707465         -73.977908         40.745633   \n",
       "\n",
       "   passenger_count  distance  \n",
       "0                2  1.116850  \n",
       "1                2  1.055053  \n",
       "2                1  2.715959  \n",
       "3                1  5.101370  \n",
       "4                5  4.800593  "
      ]
     },
     "execution_count": 35,
     "metadata": {},
     "output_type": "execute_result"
    }
   ],
   "source": [
    "train['distance'] =  HAV_dist(train, 'pickup_latitude', 'pickup_longitude','dropoff_latitude','dropoff_longitude')\n",
    "train.head()"
   ]
  },
  {
   "cell_type": "code",
   "execution_count": 36,
   "id": "dbfb3e9f",
   "metadata": {},
   "outputs": [
    {
     "data": {
      "text/html": [
       "<div>\n",
       "<style scoped>\n",
       "    .dataframe tbody tr th:only-of-type {\n",
       "        vertical-align: middle;\n",
       "    }\n",
       "\n",
       "    .dataframe tbody tr th {\n",
       "        vertical-align: top;\n",
       "    }\n",
       "\n",
       "    .dataframe thead th {\n",
       "        text-align: right;\n",
       "    }\n",
       "</style>\n",
       "<table border=\"1\" class=\"dataframe\">\n",
       "  <thead>\n",
       "    <tr style=\"text-align: right;\">\n",
       "      <th></th>\n",
       "      <th>fare_amount</th>\n",
       "      <th>pickup_longitude</th>\n",
       "      <th>pickup_latitude</th>\n",
       "      <th>dropoff_longitude</th>\n",
       "      <th>dropoff_latitude</th>\n",
       "      <th>passenger_count</th>\n",
       "      <th>distance</th>\n",
       "    </tr>\n",
       "  </thead>\n",
       "  <tbody>\n",
       "    <tr>\n",
       "      <th>count</th>\n",
       "      <td>96763.000000</td>\n",
       "      <td>96763.000000</td>\n",
       "      <td>96763.000000</td>\n",
       "      <td>96763.000000</td>\n",
       "      <td>96763.000000</td>\n",
       "      <td>96763.000000</td>\n",
       "      <td>96763.000000</td>\n",
       "    </tr>\n",
       "    <tr>\n",
       "      <th>mean</th>\n",
       "      <td>11.337445</td>\n",
       "      <td>-73.819269</td>\n",
       "      <td>40.640793</td>\n",
       "      <td>-73.835150</td>\n",
       "      <td>40.647809</td>\n",
       "      <td>1.687939</td>\n",
       "      <td>20.101361</td>\n",
       "    </tr>\n",
       "    <tr>\n",
       "      <th>std</th>\n",
       "      <td>9.662467</td>\n",
       "      <td>3.782414</td>\n",
       "      <td>3.076463</td>\n",
       "      <td>3.621570</td>\n",
       "      <td>3.033845</td>\n",
       "      <td>1.306025</td>\n",
       "      <td>373.096245</td>\n",
       "    </tr>\n",
       "    <tr>\n",
       "      <th>min</th>\n",
       "      <td>0.010000</td>\n",
       "      <td>-121.391202</td>\n",
       "      <td>-74.015935</td>\n",
       "      <td>-121.391318</td>\n",
       "      <td>-74.011085</td>\n",
       "      <td>1.000000</td>\n",
       "      <td>0.000084</td>\n",
       "    </tr>\n",
       "    <tr>\n",
       "      <th>25%</th>\n",
       "      <td>6.000000</td>\n",
       "      <td>-73.992348</td>\n",
       "      <td>40.736252</td>\n",
       "      <td>-73.991631</td>\n",
       "      <td>40.735484</td>\n",
       "      <td>1.000000</td>\n",
       "      <td>1.281120</td>\n",
       "    </tr>\n",
       "    <tr>\n",
       "      <th>50%</th>\n",
       "      <td>8.500000</td>\n",
       "      <td>-73.982132</td>\n",
       "      <td>40.753127</td>\n",
       "      <td>-73.980681</td>\n",
       "      <td>40.753782</td>\n",
       "      <td>1.000000</td>\n",
       "      <td>2.177946</td>\n",
       "    </tr>\n",
       "    <tr>\n",
       "      <th>75%</th>\n",
       "      <td>12.500000</td>\n",
       "      <td>-73.968452</td>\n",
       "      <td>40.767432</td>\n",
       "      <td>-73.965493</td>\n",
       "      <td>40.768362</td>\n",
       "      <td>2.000000</td>\n",
       "      <td>3.973685</td>\n",
       "    </tr>\n",
       "    <tr>\n",
       "      <th>max</th>\n",
       "      <td>394.000000</td>\n",
       "      <td>40.801777</td>\n",
       "      <td>42.364088</td>\n",
       "      <td>40.787037</td>\n",
       "      <td>44.640672</td>\n",
       "      <td>6.000000</td>\n",
       "      <td>8762.401420</td>\n",
       "    </tr>\n",
       "  </tbody>\n",
       "</table>\n",
       "</div>"
      ],
      "text/plain": [
       "        fare_amount  pickup_longitude  pickup_latitude  dropoff_longitude  \\\n",
       "count  96763.000000      96763.000000     96763.000000       96763.000000   \n",
       "mean      11.337445        -73.819269        40.640793         -73.835150   \n",
       "std        9.662467          3.782414         3.076463           3.621570   \n",
       "min        0.010000       -121.391202       -74.015935        -121.391318   \n",
       "25%        6.000000        -73.992348        40.736252         -73.991631   \n",
       "50%        8.500000        -73.982132        40.753127         -73.980681   \n",
       "75%       12.500000        -73.968452        40.767432         -73.965493   \n",
       "max      394.000000         40.801777        42.364088          40.787037   \n",
       "\n",
       "       dropoff_latitude  passenger_count      distance  \n",
       "count      96763.000000     96763.000000  96763.000000  \n",
       "mean          40.647809         1.687939     20.101361  \n",
       "std            3.033845         1.306025    373.096245  \n",
       "min          -74.011085         1.000000      0.000084  \n",
       "25%           40.735484         1.000000      1.281120  \n",
       "50%           40.753782         1.000000      2.177946  \n",
       "75%           40.768362         2.000000      3.973685  \n",
       "max           44.640672         6.000000   8762.401420  "
      ]
     },
     "execution_count": 36,
     "metadata": {},
     "output_type": "execute_result"
    }
   ],
   "source": [
    "train.describe()"
   ]
  },
  {
   "cell_type": "code",
   "execution_count": 37,
   "id": "c666f8fb",
   "metadata": {},
   "outputs": [],
   "source": [
    "train['Year'] = train['pickup_datetime'].dt.year\n",
    "train['Month'] = train['pickup_datetime'].dt.month\n",
    "train['Day of week'] = train['pickup_datetime'].dt.dayofweek\n",
    "train['Hour'] = train['pickup_datetime'].dt.hour"
   ]
  },
  {
   "cell_type": "code",
   "execution_count": 38,
   "id": "2a362b50",
   "metadata": {},
   "outputs": [
    {
     "data": {
      "image/png": "[encoded data removed]",
      "text/plain": [
       "<Figure size 432x288 with 1 Axes>"
      ]
     },
     "metadata": {
      "needs_background": "light"
     },
     "output_type": "display_data"
    }
   ],
   "source": [
    "import plotly.express as px\n",
    "from collections import Counter\n",
    "data  = dict(Counter(train['passenger_count']))\n",
    "names = list(data.keys())\n",
    "values = list(data.values())\n",
    "fig = plt.bar(range(len(data)), values, tick_label = names)"
   ]
  },
  {
   "cell_type": "code",
   "execution_count": 39,
   "id": "29f8d931",
   "metadata": {},
   "outputs": [
    {
     "data": {
      "text/plain": [
       "Text(0, 0.5, 'Fare')"
      ]
     },
     "execution_count": 39,
     "metadata": {},
     "output_type": "execute_result"
    },
    {
     "data": {
      "image/png": "[encoded data removed]",
      "text/plain": [
       "<Figure size 1080x504 with 1 Axes>"
      ]
     },
     "metadata": {
      "needs_background": "light"
     },
     "output_type": "display_data"
    }
   ],
   "source": [
    "plt.figure(figsize=(15,7))\n",
    "plt.scatter(x=train['passenger_count'], y=train['fare_amount'], s=10)\n",
    "plt.xlabel('No. of Passengers')\n",
    "plt.ylabel('Fare')"
   ]
  },
  {
   "cell_type": "code",
   "execution_count": 40,
   "id": "ad1322ad",
   "metadata": {},
   "outputs": [
    {
     "data": {
      "text/html": [
       "<div>\n",
       "<style scoped>\n",
       "    .dataframe tbody tr th:only-of-type {\n",
       "        vertical-align: middle;\n",
       "    }\n",
       "\n",
       "    .dataframe tbody tr th {\n",
       "        vertical-align: top;\n",
       "    }\n",
       "\n",
       "    .dataframe thead th {\n",
       "        text-align: right;\n",
       "    }\n",
       "</style>\n",
       "<table border=\"1\" class=\"dataframe\">\n",
       "  <thead>\n",
       "    <tr style=\"text-align: right;\">\n",
       "      <th></th>\n",
       "      <th>fare_amount</th>\n",
       "      <th>pickup_longitude</th>\n",
       "      <th>pickup_latitude</th>\n",
       "      <th>dropoff_longitude</th>\n",
       "      <th>dropoff_latitude</th>\n",
       "      <th>passenger_count</th>\n",
       "      <th>distance</th>\n",
       "      <th>Year</th>\n",
       "      <th>Month</th>\n",
       "      <th>Day of week</th>\n",
       "      <th>Hour</th>\n",
       "    </tr>\n",
       "  </thead>\n",
       "  <tbody>\n",
       "    <tr>\n",
       "      <th>fare_amount</th>\n",
       "      <td>1.000000</td>\n",
       "      <td>0.012896</td>\n",
       "      <td>-0.008853</td>\n",
       "      <td>0.012726</td>\n",
       "      <td>-0.008208</td>\n",
       "      <td>0.016121</td>\n",
       "      <td>0.024252</td>\n",
       "      <td>0.115951</td>\n",
       "      <td>0.026165</td>\n",
       "      <td>0.006873</td>\n",
       "      <td>-0.018943</td>\n",
       "    </tr>\n",
       "    <tr>\n",
       "      <th>pickup_longitude</th>\n",
       "      <td>0.012896</td>\n",
       "      <td>1.000000</td>\n",
       "      <td>-0.927229</td>\n",
       "      <td>0.606530</td>\n",
       "      <td>-0.698430</td>\n",
       "      <td>0.009934</td>\n",
       "      <td>0.479602</td>\n",
       "      <td>0.017505</td>\n",
       "      <td>-0.010774</td>\n",
       "      <td>0.001446</td>\n",
       "      <td>0.004618</td>\n",
       "    </tr>\n",
       "    <tr>\n",
       "      <th>pickup_latitude</th>\n",
       "      <td>-0.008853</td>\n",
       "      <td>-0.927229</td>\n",
       "      <td>1.000000</td>\n",
       "      <td>-0.713923</td>\n",
       "      <td>0.842689</td>\n",
       "      <td>-0.012096</td>\n",
       "      <td>-0.291656</td>\n",
       "      <td>-0.018361</td>\n",
       "      <td>0.010935</td>\n",
       "      <td>-0.002273</td>\n",
       "      <td>-0.005578</td>\n",
       "    </tr>\n",
       "    <tr>\n",
       "      <th>dropoff_longitude</th>\n",
       "      <td>0.012726</td>\n",
       "      <td>0.606530</td>\n",
       "      <td>-0.713923</td>\n",
       "      <td>1.000000</td>\n",
       "      <td>-0.945286</td>\n",
       "      <td>0.012480</td>\n",
       "      <td>0.405590</td>\n",
       "      <td>0.025931</td>\n",
       "      <td>-0.007489</td>\n",
       "      <td>0.004016</td>\n",
       "      <td>0.002140</td>\n",
       "    </tr>\n",
       "    <tr>\n",
       "      <th>dropoff_latitude</th>\n",
       "      <td>-0.008208</td>\n",
       "      <td>-0.698430</td>\n",
       "      <td>0.842689</td>\n",
       "      <td>-0.945286</td>\n",
       "      <td>1.000000</td>\n",
       "      <td>-0.013393</td>\n",
       "      <td>-0.247089</td>\n",
       "      <td>-0.023642</td>\n",
       "      <td>0.008742</td>\n",
       "      <td>-0.003577</td>\n",
       "      <td>-0.004393</td>\n",
       "    </tr>\n",
       "    <tr>\n",
       "      <th>passenger_count</th>\n",
       "      <td>0.016121</td>\n",
       "      <td>0.009934</td>\n",
       "      <td>-0.012096</td>\n",
       "      <td>0.012480</td>\n",
       "      <td>-0.013393</td>\n",
       "      <td>1.000000</td>\n",
       "      <td>-0.001534</td>\n",
       "      <td>0.003449</td>\n",
       "      <td>0.003768</td>\n",
       "      <td>0.035660</td>\n",
       "      <td>0.024155</td>\n",
       "    </tr>\n",
       "    <tr>\n",
       "      <th>distance</th>\n",
       "      <td>0.024252</td>\n",
       "      <td>0.479602</td>\n",
       "      <td>-0.291656</td>\n",
       "      <td>0.405590</td>\n",
       "      <td>-0.247089</td>\n",
       "      <td>-0.001534</td>\n",
       "      <td>1.000000</td>\n",
       "      <td>0.024507</td>\n",
       "      <td>-0.004240</td>\n",
       "      <td>0.003030</td>\n",
       "      <td>-0.002683</td>\n",
       "    </tr>\n",
       "    <tr>\n",
       "      <th>Year</th>\n",
       "      <td>0.115951</td>\n",
       "      <td>0.017505</td>\n",
       "      <td>-0.018361</td>\n",
       "      <td>0.025931</td>\n",
       "      <td>-0.023642</td>\n",
       "      <td>0.003449</td>\n",
       "      <td>0.024507</td>\n",
       "      <td>1.000000</td>\n",
       "      <td>-0.116638</td>\n",
       "      <td>0.009388</td>\n",
       "      <td>0.002596</td>\n",
       "    </tr>\n",
       "    <tr>\n",
       "      <th>Month</th>\n",
       "      <td>0.026165</td>\n",
       "      <td>-0.010774</td>\n",
       "      <td>0.010935</td>\n",
       "      <td>-0.007489</td>\n",
       "      <td>0.008742</td>\n",
       "      <td>0.003768</td>\n",
       "      <td>-0.004240</td>\n",
       "      <td>-0.116638</td>\n",
       "      <td>1.000000</td>\n",
       "      <td>-0.005642</td>\n",
       "      <td>-0.006440</td>\n",
       "    </tr>\n",
       "    <tr>\n",
       "      <th>Day of week</th>\n",
       "      <td>0.006873</td>\n",
       "      <td>0.001446</td>\n",
       "      <td>-0.002273</td>\n",
       "      <td>0.004016</td>\n",
       "      <td>-0.003577</td>\n",
       "      <td>0.035660</td>\n",
       "      <td>0.003030</td>\n",
       "      <td>0.009388</td>\n",
       "      <td>-0.005642</td>\n",
       "      <td>1.000000</td>\n",
       "      <td>-0.085444</td>\n",
       "    </tr>\n",
       "    <tr>\n",
       "      <th>Hour</th>\n",
       "      <td>-0.018943</td>\n",
       "      <td>0.004618</td>\n",
       "      <td>-0.005578</td>\n",
       "      <td>0.002140</td>\n",
       "      <td>-0.004393</td>\n",
       "      <td>0.024155</td>\n",
       "      <td>-0.002683</td>\n",
       "      <td>0.002596</td>\n",
       "      <td>-0.006440</td>\n",
       "      <td>-0.085444</td>\n",
       "      <td>1.000000</td>\n",
       "    </tr>\n",
       "  </tbody>\n",
       "</table>\n",
       "</div>"
      ],
      "text/plain": [
       "                   fare_amount  pickup_longitude  pickup_latitude  \\\n",
       "fare_amount           1.000000          0.012896        -0.008853   \n",
       "pickup_longitude      0.012896          1.000000        -0.927229   \n",
       "pickup_latitude      -0.008853         -0.927229         1.000000   \n",
       "dropoff_longitude     0.012726          0.606530        -0.713923   \n",
       "dropoff_latitude     -0.008208         -0.698430         0.842689   \n",
       "passenger_count       0.016121          0.009934        -0.012096   \n",
       "distance              0.024252          0.479602        -0.291656   \n",
       "Year                  0.115951          0.017505        -0.018361   \n",
       "Month                 0.026165         -0.010774         0.010935   \n",
       "Day of week           0.006873          0.001446        -0.002273   \n",
       "Hour                 -0.018943          0.004618        -0.005578   \n",
       "\n",
       "                   dropoff_longitude  dropoff_latitude  passenger_count  \\\n",
       "fare_amount                 0.012726         -0.008208         0.016121   \n",
       "pickup_longitude            0.606530         -0.698430         0.009934   \n",
       "pickup_latitude            -0.713923          0.842689        -0.012096   \n",
       "dropoff_longitude           1.000000         -0.945286         0.012480   \n",
       "dropoff_latitude           -0.945286          1.000000        -0.013393   \n",
       "passenger_count             0.012480         -0.013393         1.000000   \n",
       "distance                    0.405590         -0.247089        -0.001534   \n",
       "Year                        0.025931         -0.023642         0.003449   \n",
       "Month                      -0.007489          0.008742         0.003768   \n",
       "Day of week                 0.004016         -0.003577         0.035660   \n",
       "Hour                        0.002140         -0.004393         0.024155   \n",
       "\n",
       "                   distance      Year     Month  Day of week      Hour  \n",
       "fare_amount        0.024252  0.115951  0.026165     0.006873 -0.018943  \n",
       "pickup_longitude   0.479602  0.017505 -0.010774     0.001446  0.004618  \n",
       "pickup_latitude   -0.291656 -0.018361  0.010935    -0.002273 -0.005578  \n",
       "dropoff_longitude  0.405590  0.025931 -0.007489     0.004016  0.002140  \n",
       "dropoff_latitude  -0.247089 -0.023642  0.008742    -0.003577 -0.004393  \n",
       "passenger_count   -0.001534  0.003449  0.003768     0.035660  0.024155  \n",
       "distance           1.000000  0.024507 -0.004240     0.003030 -0.002683  \n",
       "Year               0.024507  1.000000 -0.116638     0.009388  0.002596  \n",
       "Month             -0.004240 -0.116638  1.000000    -0.005642 -0.006440  \n",
       "Day of week        0.003030  0.009388 -0.005642     1.000000 -0.085444  \n",
       "Hour              -0.002683  0.002596 -0.006440    -0.085444  1.000000  "
      ]
     },
     "execution_count": 40,
     "metadata": {},
     "output_type": "execute_result"
    }
   ],
   "source": [
    "corr_matrix = train.corr()\n",
    "corr_matrix"
   ]
  },
  {
   "cell_type": "code",
   "execution_count": 41,
   "id": "1df62053",
   "metadata": {},
   "outputs": [
    {
     "name": "stdout",
     "output_type": "stream",
     "text": [
      "(96763, 13)\n"
     ]
    },
    {
     "data": {
      "text/plain": [
       "(96499, 13)"
      ]
     },
     "execution_count": 41,
     "metadata": {},
     "output_type": "execute_result"
    }
   ],
   "source": [
    "print(train.shape)\n",
    "train = train.loc[\n",
    "    (train['pickup_latitude'] > 30) & (train['pickup_latitude'] < 50) & \n",
    "    (train['dropoff_latitude'] > 30 ) & (train['dropoff_latitude'] < 50 ) &\n",
    "    (train['pickup_longitude'] > -80) & (train['pickup_longitude'] < -60) &\n",
    "    (train['dropoff_longitude'] > -80 ) & (train['dropoff_longitude'] < -60 ) \n",
    "]\n",
    "train.shape"
   ]
  },
  {
   "cell_type": "code",
   "execution_count": 42,
   "id": "903fe27d",
   "metadata": {},
   "outputs": [
    {
     "data": {
      "text/html": [
       "<div>\n",
       "<style scoped>\n",
       "    .dataframe tbody tr th:only-of-type {\n",
       "        vertical-align: middle;\n",
       "    }\n",
       "\n",
       "    .dataframe tbody tr th {\n",
       "        vertical-align: top;\n",
       "    }\n",
       "\n",
       "    .dataframe thead th {\n",
       "        text-align: right;\n",
       "    }\n",
       "</style>\n",
       "<table border=\"1\" class=\"dataframe\">\n",
       "  <thead>\n",
       "    <tr style=\"text-align: right;\">\n",
       "      <th></th>\n",
       "      <th>fare_amount</th>\n",
       "      <th>pickup_longitude</th>\n",
       "      <th>pickup_latitude</th>\n",
       "      <th>dropoff_longitude</th>\n",
       "      <th>dropoff_latitude</th>\n",
       "      <th>passenger_count</th>\n",
       "      <th>distance</th>\n",
       "      <th>Year</th>\n",
       "      <th>Month</th>\n",
       "      <th>Day of week</th>\n",
       "      <th>Hour</th>\n",
       "    </tr>\n",
       "  </thead>\n",
       "  <tbody>\n",
       "    <tr>\n",
       "      <th>count</th>\n",
       "      <td>96499.000000</td>\n",
       "      <td>96499.000000</td>\n",
       "      <td>96499.000000</td>\n",
       "      <td>96499.000000</td>\n",
       "      <td>96499.000000</td>\n",
       "      <td>96499.000000</td>\n",
       "      <td>96499.000000</td>\n",
       "      <td>96499.000000</td>\n",
       "      <td>96499.000000</td>\n",
       "      <td>96499.000000</td>\n",
       "      <td>96499.000000</td>\n",
       "    </tr>\n",
       "    <tr>\n",
       "      <th>mean</th>\n",
       "      <td>11.329971</td>\n",
       "      <td>-73.975529</td>\n",
       "      <td>40.750835</td>\n",
       "      <td>-73.974742</td>\n",
       "      <td>40.751264</td>\n",
       "      <td>1.687437</td>\n",
       "      <td>3.393487</td>\n",
       "      <td>2011.741572</td>\n",
       "      <td>6.268241</td>\n",
       "      <td>3.029544</td>\n",
       "      <td>13.513684</td>\n",
       "    </tr>\n",
       "    <tr>\n",
       "      <th>std</th>\n",
       "      <td>9.634859</td>\n",
       "      <td>0.040508</td>\n",
       "      <td>0.030396</td>\n",
       "      <td>0.037941</td>\n",
       "      <td>0.037275</td>\n",
       "      <td>1.305341</td>\n",
       "      <td>4.457968</td>\n",
       "      <td>1.866287</td>\n",
       "      <td>3.435857</td>\n",
       "      <td>1.950619</td>\n",
       "      <td>6.513714</td>\n",
       "    </tr>\n",
       "    <tr>\n",
       "      <th>min</th>\n",
       "      <td>0.010000</td>\n",
       "      <td>-75.656882</td>\n",
       "      <td>38.708626</td>\n",
       "      <td>-75.677442</td>\n",
       "      <td>38.721912</td>\n",
       "      <td>1.000000</td>\n",
       "      <td>0.000084</td>\n",
       "      <td>2009.000000</td>\n",
       "      <td>1.000000</td>\n",
       "      <td>0.000000</td>\n",
       "      <td>0.000000</td>\n",
       "    </tr>\n",
       "    <tr>\n",
       "      <th>25%</th>\n",
       "      <td>6.000000</td>\n",
       "      <td>-73.992363</td>\n",
       "      <td>40.736392</td>\n",
       "      <td>-73.991650</td>\n",
       "      <td>40.735613</td>\n",
       "      <td>1.000000</td>\n",
       "      <td>1.280231</td>\n",
       "      <td>2010.000000</td>\n",
       "      <td>3.000000</td>\n",
       "      <td>1.000000</td>\n",
       "      <td>9.000000</td>\n",
       "    </tr>\n",
       "    <tr>\n",
       "      <th>50%</th>\n",
       "      <td>8.500000</td>\n",
       "      <td>-73.982157</td>\n",
       "      <td>40.753202</td>\n",
       "      <td>-73.980710</td>\n",
       "      <td>40.753844</td>\n",
       "      <td>1.000000</td>\n",
       "      <td>2.173716</td>\n",
       "      <td>2012.000000</td>\n",
       "      <td>6.000000</td>\n",
       "      <td>3.000000</td>\n",
       "      <td>14.000000</td>\n",
       "    </tr>\n",
       "    <tr>\n",
       "      <th>75%</th>\n",
       "      <td>12.500000</td>\n",
       "      <td>-73.968580</td>\n",
       "      <td>40.767477</td>\n",
       "      <td>-73.965653</td>\n",
       "      <td>40.768388</td>\n",
       "      <td>2.000000</td>\n",
       "      <td>3.956861</td>\n",
       "      <td>2013.000000</td>\n",
       "      <td>9.000000</td>\n",
       "      <td>5.000000</td>\n",
       "      <td>19.000000</td>\n",
       "    </tr>\n",
       "    <tr>\n",
       "      <th>max</th>\n",
       "      <td>394.000000</td>\n",
       "      <td>-71.061530</td>\n",
       "      <td>42.364088</td>\n",
       "      <td>-71.076242</td>\n",
       "      <td>44.640672</td>\n",
       "      <td>6.000000</td>\n",
       "      <td>436.305506</td>\n",
       "      <td>2015.000000</td>\n",
       "      <td>12.000000</td>\n",
       "      <td>6.000000</td>\n",
       "      <td>23.000000</td>\n",
       "    </tr>\n",
       "  </tbody>\n",
       "</table>\n",
       "</div>"
      ],
      "text/plain": [
       "        fare_amount  pickup_longitude  pickup_latitude  dropoff_longitude  \\\n",
       "count  96499.000000      96499.000000     96499.000000       96499.000000   \n",
       "mean      11.329971        -73.975529        40.750835         -73.974742   \n",
       "std        9.634859          0.040508         0.030396           0.037941   \n",
       "min        0.010000        -75.656882        38.708626         -75.677442   \n",
       "25%        6.000000        -73.992363        40.736392         -73.991650   \n",
       "50%        8.500000        -73.982157        40.753202         -73.980710   \n",
       "75%       12.500000        -73.968580        40.767477         -73.965653   \n",
       "max      394.000000        -71.061530        42.364088         -71.076242   \n",
       "\n",
       "       dropoff_latitude  passenger_count      distance          Year  \\\n",
       "count      96499.000000     96499.000000  96499.000000  96499.000000   \n",
       "mean          40.751264         1.687437      3.393487   2011.741572   \n",
       "std            0.037275         1.305341      4.457968      1.866287   \n",
       "min           38.721912         1.000000      0.000084   2009.000000   \n",
       "25%           40.735613         1.000000      1.280231   2010.000000   \n",
       "50%           40.753844         1.000000      2.173716   2012.000000   \n",
       "75%           40.768388         2.000000      3.956861   2013.000000   \n",
       "max           44.640672         6.000000    436.305506   2015.000000   \n",
       "\n",
       "              Month   Day of week          Hour  \n",
       "count  96499.000000  96499.000000  96499.000000  \n",
       "mean       6.268241      3.029544     13.513684  \n",
       "std        3.435857      1.950619      6.513714  \n",
       "min        1.000000      0.000000      0.000000  \n",
       "25%        3.000000      1.000000      9.000000  \n",
       "50%        6.000000      3.000000     14.000000  \n",
       "75%        9.000000      5.000000     19.000000  \n",
       "max       12.000000      6.000000     23.000000  "
      ]
     },
     "execution_count": 42,
     "metadata": {},
     "output_type": "execute_result"
    }
   ],
   "source": [
    "train.describe()"
   ]
  },
  {
   "cell_type": "code",
   "execution_count": 43,
   "id": "68b9e995",
   "metadata": {},
   "outputs": [
    {
     "data": {
      "image/png": "[encoded data removed]",
      "text/plain": [
       "<Figure size 432x288 with 1 Axes>"
      ]
     },
     "metadata": {
      "needs_background": "light"
     },
     "output_type": "display_data"
    },
    {
     "data": {
      "image/png": "[encoded data removed]",
      "text/plain": [
       "<Figure size 432x288 with 1 Axes>"
      ]
     },
     "metadata": {
      "needs_background": "light"
     },
     "output_type": "display_data"
    }
   ],
   "source": [
    "fig = train.plot.scatter(x='dropoff_latitude',y='dropoff_longitude')\n",
    "fig1 = train.plot.scatter(x='pickup_latitude',y='pickup_longitude')"
   ]
  },
  {
   "cell_type": "code",
   "execution_count": 44,
   "id": "61478d2b",
   "metadata": {
    "scrolled": true
   },
   "outputs": [
    {
     "data": {
      "image/png": "[encoded data removed]",
      "text/plain": [
       "<Figure size 1260x1260 with 56 Axes>"
      ]
     },
     "metadata": {
      "needs_background": "light"
     },
     "output_type": "display_data"
    }
   ],
   "source": [
    "attributes = ['fare_amount' , 'distance', 'passenger_count', \"Year\",\"Month\",\"Day of week\",\"Hour\"]\n",
    "sns.pairplot(train[attributes], plot_kws={\"s\": 3})\n",
    "plt.show()"
   ]
  },
  {
   "cell_type": "markdown",
   "id": "0d145979",
   "metadata": {},
   "source": [
    "As one can see that the fare amount is positively co-related to the distnance, year, month and day of week but is somehow negatievely co-related to the hour\n",
    "\n",
    "The negative co-orelation may be because of the fact that drivers don't usually bargain at the start of the day but accept bargains at the end of the day after they have completed their target. \n",
    "\n",
    "One other unusal thing is that certain drivers are charging high money for low. The total co-orelation may be positive but in actuality, the fare increases with distance, then decreases and then decreases again. This must be because of the fact that the intercity rates are different from interstate rates. "
   ]
  },
  {
   "cell_type": "markdown",
   "id": "188bcde0",
   "metadata": {},
   "source": [
    "## Handling categorical data and Scaling\n",
    "\n",
    "Hour, month, year etc may seem numerical but are actually categorical/ordinal data and so must be handed using one-hot encoding"
   ]
  },
  {
   "cell_type": "code",
   "execution_count": 45,
   "id": "7a84f71a",
   "metadata": {},
   "outputs": [
    {
     "data": {
      "text/plain": [
       "Index(['key', 'fare_amount', 'pickup_datetime', 'pickup_longitude',\n",
       "       'pickup_latitude', 'dropoff_longitude', 'dropoff_latitude',\n",
       "       'passenger_count', 'distance', 'Year', 'Month', 'Day of week', 'Hour'],\n",
       "      dtype='object')"
      ]
     },
     "execution_count": 45,
     "metadata": {},
     "output_type": "execute_result"
    }
   ],
   "source": [
    "train.columns"
   ]
  },
  {
   "cell_type": "code",
   "execution_count": 46,
   "id": "0963e45d",
   "metadata": {},
   "outputs": [
    {
     "data": {
      "text/plain": [
       "Index(['fare_amount', 'passenger_count', 'distance', 'Year', 'Month',\n",
       "       'Day of week', 'Hour'],\n",
       "      dtype='object')"
      ]
     },
     "execution_count": 46,
     "metadata": {},
     "output_type": "execute_result"
    }
   ],
   "source": [
    "from sklearn.preprocessing import OrdinalEncoder\n",
    "from sklearn.preprocessing import OneHotEncoder\n",
    "from sklearn.preprocessing import StandardScaler\n",
    "from sklearn.preprocessing import MinMaxScaler\n",
    "y = train\n",
    "y.drop(['pickup_datetime', 'pickup_longitude','key',\n",
    "       'pickup_latitude', 'dropoff_longitude', 'dropoff_latitude'], inplace = True, axis = 1)\n",
    "sc = StandardScaler()\n",
    "mms = MinMaxScaler()\n",
    "x = y.drop(['Hour','Day of week','Month','Year'], axis = 1) \n",
    "train_scaled = mms.fit_transform(x)\n",
    "y.columns"
   ]
  },
  {
   "cell_type": "code",
   "execution_count": 47,
   "id": "db67f62e",
   "metadata": {},
   "outputs": [],
   "source": [
    "dum = sc.fit_transform(y)\n"
   ]
  },
  {
   "cell_type": "code",
   "execution_count": 48,
   "id": "70246927",
   "metadata": {},
   "outputs": [
    {
     "name": "stdout",
     "output_type": "stream",
     "text": [
      "7 7 \n",
      " Index(['fare_amount', 'passenger_count', 'distance', 'Year', 'Month',\n",
      "       'Day of week', 'Hour'],\n",
      "      dtype='object')\n"
     ]
    },
    {
     "data": {
      "text/plain": [
       "0    2009\n",
       "1    2012\n",
       "2    2011\n",
       "3    2010\n",
       "4    2009\n",
       "Name: Year, dtype: int64"
      ]
     },
     "execution_count": 48,
     "metadata": {},
     "output_type": "execute_result"
    }
   ],
   "source": [
    "print(len(dum[0]), len(y.columns),'\\n' , y.columns)\n",
    "y[\"Year\"].head()"
   ]
  },
  {
   "cell_type": "code",
   "execution_count": 49,
   "id": "58c40d1c",
   "metadata": {},
   "outputs": [
    {
     "data": {
      "text/plain": [
       "array([[0.01241148, 0.2       , 0.0025596 ],\n",
       "       [0.01241148, 0.2       , 0.00241796],\n",
       "       [0.01748775, 0.        , 0.00622471],\n",
       "       ...,\n",
       "       [0.03677758, 0.        , 0.00643643],\n",
       "       [0.02281784, 0.        , 0.0047583 ],\n",
       "       [0.03804665, 0.        , 0.00646602]])"
      ]
     },
     "execution_count": 49,
     "metadata": {},
     "output_type": "execute_result"
    }
   ],
   "source": [
    "train_scaled"
   ]
  },
  {
   "cell_type": "code",
   "execution_count": 50,
   "id": "f114e158",
   "metadata": {},
   "outputs": [
    {
     "data": {
      "text/plain": [
       "array([[0.01241148, 0.2       , 0.0025596 , ..., 0.        , 0.        ,\n",
       "        0.        ],\n",
       "       [0.01241148, 0.2       , 0.00241796, ..., 0.        , 0.        ,\n",
       "        0.        ],\n",
       "       [0.01748775, 0.        , 0.00622471, ..., 0.        , 0.        ,\n",
       "        0.        ],\n",
       "       ...,\n",
       "       [0.03677758, 0.        , 0.00643643, ..., 0.        , 0.        ,\n",
       "        0.        ],\n",
       "       [0.02281784, 0.        , 0.0047583 , ..., 0.        , 0.        ,\n",
       "        1.        ],\n",
       "       [0.03804665, 0.        , 0.00646602, ..., 0.        , 0.        ,\n",
       "        0.        ]])"
      ]
     },
     "execution_count": 50,
     "metadata": {},
     "output_type": "execute_result"
    }
   ],
   "source": [
    "final = train_scaled\n",
    "for i in ['Hour','Year','Day of week','Month']: \n",
    "    ord_enc,one_hot = OrdinalEncoder(), OneHotEncoder(sparse = False)\n",
    "    data = train[[i]]\n",
    "#     print(data)\n",
    "    ord_data = ord_enc.fit_transform(data)\n",
    "#     print(ord_data[0])\n",
    "    one_hot_data = one_hot.fit_transform(ord_data).tolist()\n",
    "#     print(one_hot_data[0], type(one_hot_data))\n",
    "#     print(len(one_hot_data[0]))\n",
    "    final = np.concatenate((final,one_hot_data), axis = 1)\n",
    "final"
   ]
  },
  {
   "cell_type": "markdown",
   "id": "f5470194",
   "metadata": {},
   "source": [
    "# Making a pipeline\n",
    "\n",
    "Lets make a pipeline so that we don't have to do all this on the test data\n",
    "\n",
    "\n",
    "Reference used - Class tutorial sheet"
   ]
  },
  {
   "cell_type": "code",
   "execution_count": 51,
   "id": "d92dded1",
   "metadata": {},
   "outputs": [],
   "source": [
    "from sklearn.base import BaseEstimator, TransformerMixin\n",
    "\n",
    "class Data_cleaner(BaseEstimator, TransformerMixin):\n",
    "    # Taking which column to modify as \"col\" parameter\n",
    "    def __init__(self, cols):\n",
    "        self.cols = cols\n",
    "        self.median = {}\n",
    "    # Fit just calculated the median value and stores it as class variable\n",
    "    def fit(self, X, y=None):\n",
    " \n",
    "        \n",
    "        for i in self.cols : self.median[i] = X[i].median()\n",
    "        return self\n",
    "    \n",
    "    # Transform updates all NaN values with median\n",
    "    def transform(self, X):\n",
    "        print(\"Data Cleaning going on rn \\n\\n....................................\")\n",
    "        X.drop(X.loc[\n",
    "        (X['pickup_latitude'] == 0) & (X['dropoff_latitude'] == 0) | \n",
    "        (X['pickup_longitude'] == 0) & (X['dropoff_longitude'] == 0) |\n",
    "        ((X['pickup_latitude'] == X['dropoff_latitude']) & (X['pickup_longitude'] == X['dropoff_longitude']))\n",
    "        ].index , axis = 0, inplace = True)\n",
    "        \n",
    "        X = X.loc[\n",
    "        (X['pickup_latitude'] > 30) & (X['pickup_latitude'] < 50) & \n",
    "        (X['dropoff_latitude'] > 30 ) & (X['dropoff_latitude'] < 50 ) &\n",
    "        (X['pickup_longitude'] > -80) & (X['pickup_longitude'] < -60) &\n",
    "        (X['dropoff_longitude'] > -80 ) & (X['dropoff_longitude'] < -60 ) ]\n",
    "        \n",
    "        X = X.drop(X.loc[X['fare_amount'] <= 0].index, axis = 0)\n",
    "        X = X.drop(X.loc[X['passenger_count'] <= 0].index, axis = 0)\n",
    "        \n",
    "        X = X.fillna(self.median)\n",
    "    \n",
    "        return X\n"
   ]
  },
  {
   "cell_type": "code",
   "execution_count": 52,
   "id": "db360ed0",
   "metadata": {},
   "outputs": [],
   "source": [
    "class add_features(BaseEstimator,TransformerMixin):\n",
    "    def __init__(self,distance=True, hour=True, month=True, year=True, day_of_week = True ):\n",
    "        self.distance = True\n",
    "        self.hour = True\n",
    "        self.month = True \n",
    "        self.year = True\n",
    "        self.day_of_week = True\n",
    "    \n",
    "    def fit(self, X, y = None) : \n",
    "        return self\n",
    "    #No use here since we only wanna tranform\n",
    "    \n",
    "    def transform(self,X):\n",
    "        def HAV_dist(data , lat1, long1 , lat2, long2):\n",
    "            from math import cos, asin, sqrt, pi\n",
    "    \n",
    "            R,A1,A2 = 6371,np.radians(data[lat1]),np.radians(data[lat2])\n",
    "    \n",
    "    \n",
    "            diff_A = np.radians(data[lat2] - data[lat1])\n",
    "            diff_L = np.radians(data[long2] - data[long1])\n",
    "    \n",
    "            a = np.sin(diff_A/2.0)**2 + np.cos(A1)*np.cos(A2)*np.sin(diff_L/2.0)**2\n",
    "            c = 2*np.arctan2(np.sqrt(a), np.sqrt(1-a))\n",
    "            d = R*c\n",
    "    \n",
    "            data['distance'] = d\n",
    "            # The distance returned is in killometeres !\n",
    "            return d\n",
    "    \n",
    "        print(\"___________________________________________________________________\")\n",
    "        print(\"Adding new features \\n\\n....................................\")\n",
    "        if self.distance :\n",
    "            X['distance'] = HAV_dist(X, 'pickup_latitude', 'pickup_longitude','dropoff_latitude','dropoff_longitude')\n",
    "        \n",
    "        \n",
    "        if self.hour & self.month & self.year & self.day_of_week : \n",
    "            X['key'] = pd.to_datetime(X['key'])\n",
    "            X['pickup_datetime']  = pd.to_datetime(X['pickup_datetime'])\n",
    "            X['Year'] = X['pickup_datetime'].dt.year\n",
    "            X['Month'] = X['pickup_datetime'].dt.month\n",
    "            X['Day of week'] = X['pickup_datetime'].dt.dayofweek\n",
    "            X['Hour'] = X['pickup_datetime'].dt.hour\n",
    "            \n",
    "        X.drop(['pickup_datetime', 'pickup_longitude','key','pickup_latitude', 'dropoff_longitude', 'dropoff_latitude'], inplace = True, axis = 1)\n",
    "        \n",
    "        return X \n",
    "    "
   ]
  },
  {
   "cell_type": "code",
   "execution_count": 53,
   "id": "b0062cfc",
   "metadata": {},
   "outputs": [],
   "source": [
    "class One_hot_and_scale(BaseEstimator,TransformerMixin) :\n",
    "    def __init__(self, num = ['fare_amount', 'passenger_count', 'distance'], ordinal = ['Year', 'Month','Day of week', 'Hour']) :\n",
    "        self.num = num\n",
    "        self.ordinal = ordinal\n",
    "        from sklearn.preprocessing import OrdinalEncoder\n",
    "        from sklearn.preprocessing import OneHotEncoder\n",
    "        from sklearn.preprocessing import MinMaxScaler\n",
    "    def fit(self, X, y = None):\n",
    "        return self\n",
    "\n",
    "    def transform(self , X):\n",
    "        \n",
    "        print(\"___________________________________________________________________\")\n",
    "        print(\"Scaling \\n\\n....................................\")\n",
    "        \n",
    "        self.encoder = OneHotEncoder(sparse = False)\n",
    "        self.cat = OrdinalEncoder()\n",
    "        dummy1 = X[['fare_amount', 'passenger_count', 'distance']]\n",
    "        final = dummy1\n",
    "        sc = StandardScaler()\n",
    "        mms = MinMaxScaler()\n",
    "        dummy2 = X[['Hour','Year','Day of week','Month']]\n",
    "        train_scaled = mms.fit_transform(dummy1)\n",
    "        final = train_scaled\n",
    "        print(\"___________________________________________________________________\")\n",
    "        print(\"Encoding... \\n\\n....................................\")\n",
    "        for i in dummy2.columns.tolist(): \n",
    "            ord_enc,one_hot = OrdinalEncoder(), OneHotEncoder(sparse = False)\n",
    "            data = dummy2[[i]]\n",
    "            ord_data = ord_enc.fit_transform(data)\n",
    "            one_hot_data = self.encoder.fit_transform(ord_data).tolist()\n",
    "            final = np.concatenate((final,one_hot_data), axis = 1)\n",
    "        \n",
    "        \n",
    "        print(\"\\n\\nDone\")\n",
    "        return final"
   ]
  },
  {
   "cell_type": "code",
   "execution_count": 54,
   "id": "e1b1fad4",
   "metadata": {},
   "outputs": [
    {
     "name": "stdout",
     "output_type": "stream",
     "text": [
      "Data Cleaning going on rn \n",
      "\n",
      "....................................\n",
      "___________________________________________________________________\n",
      "Adding new features \n",
      "\n",
      "....................................\n",
      "___________________________________________________________________\n",
      "Scaling \n",
      "\n",
      "....................................\n",
      "___________________________________________________________________\n",
      "Encoding... \n",
      "\n",
      "....................................\n",
      "\n",
      "\n",
      "Done\n"
     ]
    },
    {
     "data": {
      "text/plain": [
       "array([[0.01241148, 0.2       , 0.0025596 , ..., 0.        , 0.        ,\n",
       "        0.        ],\n",
       "       [0.01241148, 0.2       , 0.00241796, ..., 0.        , 0.        ,\n",
       "        0.        ],\n",
       "       [0.01748775, 0.        , 0.00622471, ..., 0.        , 0.        ,\n",
       "        0.        ],\n",
       "       ...,\n",
       "       [0.03677758, 0.        , 0.00643643, ..., 0.        , 0.        ,\n",
       "        0.        ],\n",
       "       [0.02281784, 0.        , 0.0047583 , ..., 0.        , 0.        ,\n",
       "        1.        ],\n",
       "       [0.03804665, 0.        , 0.00646602, ..., 0.        , 0.        ,\n",
       "        0.        ]])"
      ]
     },
     "execution_count": 54,
     "metadata": {},
     "output_type": "execute_result"
    }
   ],
   "source": [
    "from sklearn.pipeline import Pipeline\n",
    "from sklearn.preprocessing import StandardScaler\n",
    "train = pd.read_csv('data/train_NYTaxi.csv').drop(columns = ['Index'])\n",
    "pre_pipe = Pipeline([\n",
    "    ('clean data', Data_cleaner(cols=['fare_amount', 'pickup_longitude','pickup_latitude', 'dropoff_longitude', 'dropoff_latitude', 'passenger_count'])),\n",
    "    ('Add features', add_features()),\n",
    "    ('Scaling and Onehot encoding', One_hot_and_scale())\n",
    "])\n",
    "train_prepared = pre_pipe.fit_transform(train)\n",
    "train_prepared"
   ]
  },
  {
   "cell_type": "markdown",
   "id": "09dce4be",
   "metadata": {},
   "source": [
    "# Use of Validation Set and Cross Validation Approach\n"
   ]
  },
  {
   "cell_type": "code",
   "execution_count": 55,
   "id": "f209f18f",
   "metadata": {},
   "outputs": [
    {
     "name": "stdout",
     "output_type": "stream",
     "text": [
      "9650\n"
     ]
    }
   ],
   "source": [
    "y  = np.array_split(train_prepared, 10)\n",
    "print(len(y[0]))"
   ]
  },
  {
   "cell_type": "markdown",
   "id": "6481b29b",
   "metadata": {},
   "source": [
    "Now, the above function is in-built so we will make our own hash functions to split data\n",
    "\n",
    "Reference - https://www.geeksforgeeks.org/hash-functions-and-list-types-of-hash-functions/ (Implemented (1) and (4))"
   ]
  },
  {
   "cell_type": "code",
   "execution_count": 56,
   "id": "b35a27d5",
   "metadata": {},
   "outputs": [],
   "source": [
    "def mod_hash(a, key = 10, shuffle = False):\n",
    "    \n",
    "    if shuffle :np.random.shuffle(a)\n",
    "    buckets = [[] for i in range(key)]\n",
    "    \n",
    "    for i in range(len(a)):\n",
    "        x = i%key\n",
    "        \n",
    "        buckets[x].append(a[i])\n",
    "        \n",
    "    return buckets\n",
    "\n",
    "def Mul_hash(a, m = 10, A = 0.1234566, shuffle = False):\n",
    "    # m is the number of splits we need\n",
    "    if shuffle : np.random.shuffle(a)\n",
    "    \n",
    "    buckets = [[] for i in range(m)]\n",
    "    import math\n",
    "    for i in range(len(a)): \n",
    "        \n",
    "        x = math.floor(m*((A*i)%1))\n",
    "        \n",
    "        buckets[x].append(a[i])\n",
    "        \n",
    "    return buckets"
   ]
  },
  {
   "cell_type": "code",
   "execution_count": 57,
   "id": "d6a71b91",
   "metadata": {},
   "outputs": [
    {
     "name": "stdout",
     "output_type": "stream",
     "text": [
      "6276\n",
      "6509\n",
      "6436\n",
      "6349\n",
      "6597\n",
      "6278\n",
      "6506\n",
      "6438\n",
      "6346\n",
      "6597\n",
      "6279\n",
      "6505\n",
      "6439\n",
      "6344\n",
      "6600\n"
     ]
    }
   ],
   "source": [
    "splitted_training_data = Mul_hash(train_prepared, shuffle = True, m = 15)\n",
    "for i in splitted_training_data : print(len(i))"
   ]
  },
  {
   "cell_type": "code",
   "execution_count": 58,
   "id": "ebf860f9",
   "metadata": {},
   "outputs": [
    {
     "name": "stdout",
     "output_type": "stream",
     "text": [
      "3 "
     ]
    }
   ],
   "source": [
    "import random\n",
    "ind = random.choice(range(0,10))\n",
    "print(ind, end = ' ')\n",
    "validation_final = np.array(splitted_training_data[ind])\n",
    "train_final_array = splitted_training_data[:ind] + splitted_training_data[ind+1:]"
   ]
  },
  {
   "cell_type": "code",
   "execution_count": 59,
   "id": "08b5f690",
   "metadata": {},
   "outputs": [
    {
     "name": "stdout",
     "output_type": "stream",
     "text": [
      "14\n",
      "1 2 3 4 5 6 7 8 9 10 11 12 13 "
     ]
    }
   ],
   "source": [
    "train_final = train_final_array[0]\n",
    "print(len(train_final_array))\n",
    "for i in range(1,len(train_final_array)):\n",
    "    print(i, end = ' ')\n",
    "    train_final = np.concatenate((train_final, train_final_array[i]), axis = 0)    "
   ]
  },
  {
   "cell_type": "code",
   "execution_count": 60,
   "id": "1944ec2e",
   "metadata": {},
   "outputs": [
    {
     "name": "stdout",
     "output_type": "stream",
     "text": [
      "90150 \n",
      " 6349\n"
     ]
    }
   ],
   "source": [
    "print(train_final.shape[0], '\\n',validation_final.shape[0])"
   ]
  },
  {
   "cell_type": "code",
   "execution_count": 61,
   "id": "c2d9cfcc",
   "metadata": {},
   "outputs": [
    {
     "data": {
      "text/plain": [
       "array([[0.04819919, 0.        , 0.01042712, ..., 0.        , 0.        ,\n",
       "        0.        ],\n",
       "       [0.01139623, 0.        , 0.00171825, ..., 0.        , 0.        ,\n",
       "        0.        ],\n",
       "       [0.0164725 , 1.        , 0.0043196 , ..., 0.        , 0.        ,\n",
       "        0.        ],\n",
       "       ...,\n",
       "       [0.02560979, 0.2       , 0.00641674, ..., 0.        , 0.        ,\n",
       "        1.        ],\n",
       "       [0.01342674, 0.        , 0.00684598, ..., 1.        , 0.        ,\n",
       "        0.        ],\n",
       "       [0.01241148, 0.2       , 0.0021576 , ..., 1.        , 0.        ,\n",
       "        0.        ]])"
      ]
     },
     "execution_count": 61,
     "metadata": {},
     "output_type": "execute_result"
    }
   ],
   "source": [
    "train_final"
   ]
  },
  {
   "cell_type": "code",
   "execution_count": 62,
   "id": "529c7dd9",
   "metadata": {},
   "outputs": [],
   "source": [
    "y_train = train_final[:,0]\n",
    "x_train = np.delete(train_final, 0, axis = 1)\n",
    "y_val = validation_final[:,0]\n",
    "x_val = np.delete(validation_final, 0, axis = 1)\n",
    "Mean_loss = {'Matrix' : 0, \n",
    "             'GD'     : 0,\n",
    "             'KNN'    : 0\n",
    "            }"
   ]
  },
  {
   "cell_type": "markdown",
   "id": "365a42d1",
   "metadata": {},
   "source": [
    "# Using Matrix Method\n",
    "\n",
    "w_opt = Pseudoinv(A)*y"
   ]
  },
  {
   "cell_type": "code",
   "execution_count": 63,
   "id": "d8eb21b8",
   "metadata": {},
   "outputs": [
    {
     "data": {
      "text/plain": [
       "array([-0.69573922, -0.02527115,  0.67852356,  0.02983706,  0.03365955,\n",
       "        0.21157726, -0.32873365, -0.07025574,  0.05822674,  0.10575074,\n",
       "       -0.06127778, -0.38098339, -0.06820399, -0.16871523, -0.39195246,\n",
       "       -0.04281517, -0.22434507, -0.25532223, -0.31725624, -0.04962327,\n",
       "        0.25973842, -0.17407786,  0.01027933,  0.2684835 , -0.09385716,\n",
       "       -0.23134934, -0.12683642,  0.18089181,  0.16864972,  0.17181902,\n",
       "        0.17766091,  0.22924965,  0.21270522,  0.25099713,  0.23227518,\n",
       "        0.15510419,  0.31836969,  0.27028864,  0.26472437,  0.38110012,\n",
       "        0.40685885,  0.22507349,  0.34039298,  0.1943825 ,  0.17396845,\n",
       "        0.20711231,  0.16491223,  0.25442575,  0.185665  ,  0.13342593,\n",
       "        0.23084852,  0.18414178,  0.16131182])"
      ]
     },
     "execution_count": 63,
     "metadata": {},
     "output_type": "execute_result"
    }
   ],
   "source": [
    "A = np.c_[np.ones((x_train.shape[0],1)), x_train]\n",
    "w_mat =  np.linalg.inv(A.T.dot(A)).dot(A.T).dot(y_train)\n",
    "w_mat"
   ]
  },
  {
   "cell_type": "code",
   "execution_count": 64,
   "id": "d693fd06",
   "metadata": {},
   "outputs": [
    {
     "data": {
      "text/plain": [
       "array([-0.39009762, -0.15734282, -0.24532755, ...,  0.18983308,\n",
       "       -0.14188633, -0.0114623 ])"
      ]
     },
     "execution_count": 64,
     "metadata": {},
     "output_type": "execute_result"
    }
   ],
   "source": [
    "x_val_modif = np.c_[np.ones((x_val.shape[0],1)), x_val]\n",
    "y_pred_mat = x_val_modif@w_mat\n",
    "y_pred_mat"
   ]
  },
  {
   "cell_type": "code",
   "execution_count": 65,
   "id": "0240565b",
   "metadata": {},
   "outputs": [],
   "source": [
    "Mean_loss[\"Matrix\"] = np.power(np.power(y_pred_mat - y_val, 2), 0.5).sum()/y_pred_mat.shape[0]"
   ]
  },
  {
   "cell_type": "markdown",
   "id": "342cc05e",
   "metadata": {},
   "source": [
    "# Using Opt. based (Gradient Descent)\n",
    "![Grad](https://miro.medium.com/max/255/0*PvjYsW-ivVuxt66h)\n",
    "![Grad-1](https://miro.medium.com/max/321/0*Co4CiFtojSRjFbj3)\n",
    "![Grad-2](https://miro.medium.com/max/311/0*U_q_T4zVMYmp8Kqf)\n",
    "![Grad-3](https://miro.medium.com/max/392/0*p3ag4tX1lyHJCE9s)\n",
    "![Grad-4](https://miro.medium.com/max/347/0*v4Wzqi_BwLTi8Qf2)"
   ]
  },
  {
   "cell_type": "code",
   "execution_count": 66,
   "id": "15d74526",
   "metadata": {},
   "outputs": [],
   "source": [
    "class Linear_Regressor_GD:\n",
    "    \n",
    "    def __init__(self, lr = 10, n_iters = 10000, tolerance = 0.01):\n",
    "        self.lr = lr\n",
    "        self.n_iters = n_iters\n",
    "        self.weights = None\n",
    "        self.bias = None\n",
    "        self.tolerance = tolerance\n",
    "        self.loss = 0\n",
    "    def _init_parameters(self):\n",
    "        self.weights = np.random.rand(self.n_features)\n",
    "        self.bias = 0\n",
    "        self.i = 1\n",
    "        \n",
    "    def _update_parameters(self, dw, db):\n",
    "        self.lr = self.lr/i\n",
    "        self.weights = self.weights - self.lr*dw\n",
    "        self.bias = self.bias - self.lr*db\n",
    "        self.i = self.i + 1\n",
    "#         print(self.weights)\n",
    "#         print(self.bias)\n",
    "    def _get_prediction(self, X):\n",
    "        return np.dot(X,self.weights) + self.bias\n",
    "    \n",
    "    def _get_gradients(self, X, y, y_pred):\n",
    "        dw = np.dot(X.T,self.err)/self.n_samples\n",
    "        db = np.sum(self.err) /self.n_samples\n",
    "        \n",
    "        return dw, db\n",
    "    \n",
    "    def fit(self, X, y):\n",
    "        self.n_samples, self.n_features = X.shape\n",
    "        \n",
    "        self._init_parameters()\n",
    "        \n",
    "        for i in range(self.n_iters):\n",
    "            y_pred = self._get_prediction(X)\n",
    "            self.err = y_pred - y\n",
    "            self.loss = np.power(self.err.sum(),2)/X.shape[0]\n",
    "            if (self.loss <= self.tolerance) : \n",
    "                break\n",
    "#             print(y_pred)\n",
    "            dw, db = self._get_gradients(X, y,y_pred)\n",
    "#             print(dw)\n",
    "            self._update_parameters(dw, db)\n",
    "            \n",
    "            \n",
    "            \n",
    "    def predict(self, X):\n",
    "        \n",
    "        y_pred = self._get_prediction(X)\n",
    "        \n",
    "        return y_pred"
   ]
  },
  {
   "cell_type": "code",
   "execution_count": 67,
   "id": "8b04a3be",
   "metadata": {},
   "outputs": [],
   "source": [
    "LR_GD = Linear_Regressor_GD()\n",
    "LR_GD.fit(x_train, y_train)\n",
    "y_pred_GD = LR_GD.predict(x_val)\n",
    "Mean_loss[\"GD\"] = np.power((np.power((y_pred_GD - y_val), 2)).sum(), 0.5)/y_pred_GD.shape[0]"
   ]
  },
  {
   "cell_type": "markdown",
   "id": "c2c87ff8",
   "metadata": {},
   "source": [
    "# Non Parametirc approach (KNN)"
   ]
  },
  {
   "cell_type": "code",
   "execution_count": 68,
   "id": "832b1c6e",
   "metadata": {},
   "outputs": [],
   "source": [
    "\n",
    "from sklearn.neighbors import KNeighborsRegressor\n",
    "\n",
    "clf = KNeighborsRegressor(n_neighbors = 5, metric = 'minkowski', p = 2)\n",
    "\n",
    "clf.fit(x_train,y_train)\n",
    "\n",
    "y_pred_knn = clf.predict(x_val)\n",
    "Mean_loss[\"KNN\"] = np.power((np.power((y_pred_knn - y_val), 2)).sum(), 0.5)/y_pred_knn.shape[0]"
   ]
  },
  {
   "cell_type": "code",
   "execution_count": 69,
   "id": "0e65315d",
   "metadata": {},
   "outputs": [
    {
     "name": "stdout",
     "output_type": "stream",
     "text": [
      "{'Matrix': 0.20555950460932618, 'GD': 0.006287898762127095, 'KNN': 0.0002796419525489059}\n"
     ]
    }
   ],
   "source": [
    "print(Mean_loss)"
   ]
  },
  {
   "cell_type": "markdown",
   "id": "052d134d",
   "metadata": {},
   "source": [
    "# Lets combine using cross validation !"
   ]
  },
  {
   "cell_type": "code",
   "execution_count": 70,
   "id": "6026cab1",
   "metadata": {},
   "outputs": [
    {
     "name": "stdout",
     "output_type": "stream",
     "text": [
      "The loss for index 0 is {'Matrix': 0.1484752679212688, 'GD': 0.007014885181885739, 'KNN': 0.0002892270794391954}\n",
      "The loss for index 1 is {'Matrix': 2.547364301531171, 'GD': 0.006259403364701433, 'KNN': 0.0002916147674047577}\n",
      "The loss for index 2 is {'Matrix': 1.3222379354199263, 'GD': 0.006238310523849132, 'KNN': 0.00028434389217071946}\n",
      "The loss for index 3 is {'Matrix': 0.20555950460932618, 'GD': 0.007248141963542297, 'KNN': 0.0002796419525489059}\n",
      "The loss for index 4 is {'Matrix': 0.2750510283413527, 'GD': 0.00659661370970911, 'KNN': 0.00031343566051225875}\n",
      "The loss for index 5 is {'Matrix': 0.21106407922894738, 'GD': 0.006872592238494238, 'KNN': 0.000295296136096988}\n",
      "The loss for index 6 is {'Matrix': 1.3519102247763641, 'GD': 0.0071094821060341575, 'KNN': 0.0002765143181566465}\n",
      "The loss for index 7 is {'Matrix': 4.589619352089325, 'GD': 0.0059323449467538055, 'KNN': 0.00029233104872573775}\n",
      "The loss for index 8 is {'Matrix': 0.13871775998651248, 'GD': 0.0073224600900561486, 'KNN': 0.00030303498123856673}\n",
      "The loss for index 9 is {'Matrix': 0.7411181253798262, 'GD': 0.00695416954925058, 'KNN': 0.00028681292808110237}\n",
      "The loss for index 10 is {'Matrix': 0.3353482967710544, 'GD': 0.006777269226102162, 'KNN': 0.0002930901821200565}\n",
      "The loss for index 11 is {'Matrix': 0.4810604017567798, 'GD': 0.006744488175091215, 'KNN': 0.0002886490806345171}\n",
      "The loss for index 12 is {'Matrix': 0.10546627599348939, 'GD': 0.0069010694241260434, 'KNN': 0.00029429827621888356}\n",
      "The loss for index 13 is {'Matrix': 1.6963182350790826, 'GD': 0.007189997856018826, 'KNN': 0.0002783433906706553}\n",
      "The loss for index 14 is {'Matrix': 0.3390537873673226, 'GD': 0.006426871304302839, 'KNN': 0.0002772206710340049}\n"
     ]
    }
   ],
   "source": [
    "for index in range(0,len(splitted_training_data)) :\n",
    "    validation_final = np.array(splitted_training_data[index])\n",
    "    train_final_array = splitted_training_data[:index] + splitted_training_data[index+1:]\n",
    "    train_final = train_final_array[0]\n",
    "#     print(len(train_final_array))\n",
    "    for i in range(1,len(train_final_array)):\n",
    "#         print(i, end = ' ')\n",
    "        train_final = np.concatenate((train_final, train_final_array[i]), axis = 0)   \n",
    "    y_train = train_final[:,0]\n",
    "    x_train = np.delete(train_final, 0, axis = 1)\n",
    "    y_val = validation_final[:,0]\n",
    "    x_val = np.delete(validation_final, 0, axis = 1)\n",
    "    Mean_loss = {'Matrix' : 0, \n",
    "                 'GD'     : 0,\n",
    "                 'KNN'    : 0\n",
    "                }\n",
    "    \n",
    "    try : \n",
    "        A = np.c_[np.ones((x_train.shape[0],1)), x_train]\n",
    "        w_mat =  np.linalg.inv(A.T.dot(A)).dot(A.T).dot(y_train)\n",
    "        x_val_modif = np.c_[np.ones((x_val.shape[0],1)), x_val]\n",
    "        y_pred_mat = x_val_modif@w_mat\n",
    "        Mean_loss[\"Matrix\"] = np.power(np.power(y_pred_mat - y_val, 2), 0.5).sum()/y_pred_mat.shape[0]\n",
    "    except : \n",
    "        print('Non singular matrix')\n",
    "        \n",
    "    LR_GD = Linear_Regressor_GD()\n",
    "    LR_GD.fit(x_train, y_train)\n",
    "    y_pred_GD = LR_GD.predict(x_val)\n",
    "    Mean_loss[\"GD\"] = np.power((np.power((y_pred_GD - y_val), 2)).sum(), 0.5)/y_pred_GD.shape[0]\n",
    "    clf = KNeighborsRegressor(n_neighbors = 5, metric = 'minkowski', p = 2)\n",
    "\n",
    "    clf.fit(x_train,y_train)\n",
    "\n",
    "    y_pred_knn = clf.predict(x_val)\n",
    "    Mean_loss[\"KNN\"] = np.power((np.power((y_pred_knn - y_val), 2)).sum(), 0.5)/y_pred_knn.shape[0]\n",
    "    \n",
    "    print('The loss for index {} is'.format(index), end = ' ')\n",
    "    print(Mean_loss)"
   ]
  },
  {
   "cell_type": "markdown",
   "id": "31acfc73",
   "metadata": {},
   "source": [
    "Out of all the models, the KNN model performed the best and in least time !\n",
    "Grad descend might not be working too well because of the lack of optimizations but it still gives acceptable results !\n",
    "\n",
    "\n",
    "But the results are still not that good. Lets give a try after adding some noise into our y_test so that we can prevent overfitting !"
   ]
  },
  {
   "cell_type": "code",
   "execution_count": 71,
   "id": "0b898223",
   "metadata": {},
   "outputs": [
    {
     "data": {
      "text/plain": [
       "array([0.04819919, 0.01139623, 0.0164725 , ..., 0.04693013, 0.0164725 ,\n",
       "       0.01342674])"
      ]
     },
     "execution_count": 71,
     "metadata": {},
     "output_type": "execute_result"
    }
   ],
   "source": [
    "y_noise = (0.0005)*np.random.normal(0,1,len(y_train))\n",
    "y_noisy_train = y_train + y_noise\n",
    "y_train"
   ]
  },
  {
   "cell_type": "code",
   "execution_count": 72,
   "id": "9cb06ecd",
   "metadata": {},
   "outputs": [
    {
     "data": {
      "text/plain": [
       "array([0.04907953, 0.01117078, 0.01585178, ..., 0.04710747, 0.01610083,\n",
       "       0.0143297 ])"
      ]
     },
     "execution_count": 72,
     "metadata": {},
     "output_type": "execute_result"
    }
   ],
   "source": [
    "y_noisy_train"
   ]
  },
  {
   "cell_type": "code",
   "execution_count": 73,
   "id": "44e79b52",
   "metadata": {},
   "outputs": [
    {
     "name": "stdout",
     "output_type": "stream",
     "text": [
      "The loss for index 0 is {'Matrix': 0.14847556673731627, 'GD': 0.006515202160721997, 'KNN': 0.0002893587695707378}\n",
      "The loss for index 1 is {'Matrix': 2.308949734495051, 'GD': 0.007020649557662051, 'KNN': 0.00029155254453706647}\n",
      "The loss for index 2 is {'Matrix': 1.3218597062381414, 'GD': 0.006360858377430953, 'KNN': 0.00028432911480347217}\n",
      "The loss for index 3 is {'Matrix': 0.20554979277147536, 'GD': 0.0065195273871373255, 'KNN': 0.0002796683615919368}\n",
      "The loss for index 4 is {'Matrix': 0.27507062311822555, 'GD': 0.006480366680462158, 'KNN': 0.000313503873416573}\n",
      "The loss for index 5 is {'Matrix': 0.2110312670168327, 'GD': 0.006890691352452348, 'KNN': 0.0002953601104878431}\n",
      "The loss for index 6 is {'Matrix': 1.3520129601722786, 'GD': 0.006942573571418289, 'KNN': 0.0002765234061579603}\n",
      "The loss for index 7 is {'Matrix': 3.276185730400727, 'GD': 0.0066495319184353896, 'KNN': 0.0002924378402923786}\n",
      "The loss for index 8 is {'Matrix': 0.1387011378208487, 'GD': 0.007709996740203333, 'KNN': 0.00030313509403867133}\n",
      "The loss for index 9 is {'Matrix': 0.7410756749136839, 'GD': 0.006427299190191658, 'KNN': 0.00028684205791293854}\n",
      "The loss for index 10 is {'Matrix': 0.3353662379769603, 'GD': 0.005757655291685632, 'KNN': 0.00029318192359250017}\n",
      "The loss for index 11 is {'Matrix': 0.4810759999185, 'GD': 0.006652683082672044, 'KNN': 0.00028867145489930985}\n",
      "The loss for index 12 is {'Matrix': 0.10547581211097622, 'GD': 0.007176524909336237, 'KNN': 0.0002943741549101096}\n",
      "The loss for index 13 is {'Matrix': 1.8130307897087303, 'GD': 0.006752778231536125, 'KNN': 0.00027843453267108035}\n",
      "The loss for index 14 is {'Matrix': 0.3390539042692477, 'GD': 0.006573691513384261, 'KNN': 0.0002772208756762499}\n"
     ]
    }
   ],
   "source": [
    "for index in range(0,len(splitted_training_data)) :\n",
    "    validation_final = np.array(splitted_training_data[index])\n",
    "    train_final_array = splitted_training_data[:index] + splitted_training_data[index+1:]\n",
    "    train_final = train_final_array[0]\n",
    "#     print(len(train_final_array))\n",
    "    for i in range(1,len(train_final_array)):\n",
    "#         print(i, end = ' ')\n",
    "        train_final = np.concatenate((train_final, train_final_array[i]), axis = 0)   \n",
    "    y_train = train_final[:,0] + 0.001*np.random.normal(0,1,len(train_final))\n",
    "    x_train = np.delete(train_final, 0, axis = 1)\n",
    "    y_val = validation_final[:,0]\n",
    "    x_val = np.delete(validation_final, 0, axis = 1)\n",
    "    Mean_loss = {'Matrix' : 0, \n",
    "                 'GD'     : 0,\n",
    "                 'KNN'    : 0\n",
    "                }\n",
    "    \n",
    "    try : \n",
    "        A = np.c_[np.ones((x_train.shape[0],1)), x_train]\n",
    "        w_mat =  np.linalg.inv(A.T.dot(A)).dot(A.T).dot(y_train)\n",
    "        x_val_modif = np.c_[np.ones((x_val.shape[0],1)), x_val]\n",
    "        y_pred_mat = x_val_modif@w_mat\n",
    "        Mean_loss[\"Matrix\"] = np.power(np.power(y_pred_mat - y_val, 2), 0.5).sum()/y_pred_mat.shape[0]\n",
    "    except : \n",
    "        print('Non singular matrix')\n",
    "        \n",
    "    LR_GD = Linear_Regressor_GD()\n",
    "    LR_GD.fit(x_train, y_train)\n",
    "    y_pred_GD = LR_GD.predict(x_val)\n",
    "    Mean_loss[\"GD\"] = np.power((np.power((y_pred_GD - y_val), 2)).sum(), 0.5)/y_pred_GD.shape[0]\n",
    "    clf = KNeighborsRegressor(n_neighbors = 5, metric = 'minkowski', p = 2)\n",
    "\n",
    "    clf.fit(x_train,y_train)\n",
    "\n",
    "    y_pred_knn = clf.predict(x_val)\n",
    "    Mean_loss[\"KNN\"] = np.power((np.power((y_pred_knn - y_val), 2)).sum(), 0.5)/y_pred_knn.shape[0]\n",
    "    \n",
    "    print('The loss for index {} is'.format(index), end = ' ')\n",
    "    print(Mean_loss)"
   ]
  },
  {
   "cell_type": "markdown",
   "id": "62d430d7",
   "metadata": {},
   "source": [
    "TOO much noise may lead to bad results ?\n",
    "\n",
    "May or may not\n",
    "\n",
    "Lets try with 10 X noise (IT should increase loss since its too much !)"
   ]
  },
  {
   "cell_type": "code",
   "execution_count": 74,
   "id": "326a3cf9",
   "metadata": {},
   "outputs": [
    {
     "name": "stdout",
     "output_type": "stream",
     "text": [
      "The loss for index 0 is {'Matrix': 0.1489156328943675, 'GD': 0.006698526004595175, 'KNN': 0.00029542601964135105}\n",
      "The loss for index 1 is {'Matrix': 2.462005314501839, 'GD': 0.006974755484083081, 'KNN': 0.0002966475930613784}\n",
      "The loss for index 2 is {'Matrix': 1.3225494821257213, 'GD': 0.007196213215632995, 'KNN': 0.00029103437126046163}\n",
      "The loss for index 3 is {'Matrix': 0.20585260932795188, 'GD': 0.006669250145525543, 'KNN': 0.0002845731479561346}\n",
      "The loss for index 4 is {'Matrix': 0.274947360996967, 'GD': 0.007403653699105449, 'KNN': 0.00031800445063558173}\n",
      "The loss for index 5 is {'Matrix': 0.21068578542033214, 'GD': 0.007394277817570365, 'KNN': 0.00030049497555848745}\n",
      "The loss for index 6 is {'Matrix': 1.3486634126624673, 'GD': 0.006194114571160253, 'KNN': 0.0002819285594155966}\n",
      "The loss for index 7 is {'Matrix': 7.357475939543691, 'GD': 0.006057744667950156, 'KNN': 0.00029748240461522995}\n",
      "The loss for index 8 is {'Matrix': 0.13825525219488222, 'GD': 0.007027433495549861, 'KNN': 0.00030855110401420063}\n",
      "The loss for index 9 is {'Matrix': 0.7409689727370075, 'GD': 0.006882950073406641, 'KNN': 0.0002924678845481751}\n",
      "The loss for index 10 is {'Matrix': 0.33474448781709554, 'GD': 0.006459284706281186, 'KNN': 0.00029839781898225083}\n",
      "The loss for index 11 is {'Matrix': 0.479981499496911, 'GD': 0.007651117386019124, 'KNN': 0.0002953670277396465}\n",
      "The loss for index 12 is {'Matrix': 0.10549043807450381, 'GD': 0.0068084706841553475, 'KNN': 0.00030137882561400266}\n",
      "The loss for index 13 is {'Matrix': 2.022472095117639, 'GD': 0.006832111053452827, 'KNN': 0.00028405940253150257}\n",
      "The loss for index 14 is {'Matrix': 0.3392962620262813, 'GD': 0.00755659201024705, 'KNN': 0.0002830459721530303}\n"
     ]
    }
   ],
   "source": [
    "for index in range(0,len(splitted_training_data)) :\n",
    "    validation_final = np.array(splitted_training_data[index])\n",
    "    train_final_array = splitted_training_data[:index] + splitted_training_data[index+1:]\n",
    "    train_final = train_final_array[0]\n",
    "#     print(len(train_final_array))\n",
    "    for i in range(1,len(train_final_array)):\n",
    "#         print(i, end = ' ')\n",
    "        train_final = np.concatenate((train_final, train_final_array[i]), axis = 0)   \n",
    "    y_train = train_final[:,0] + 0.01*np.random.normal(0,1,len(train_final)) # 10X more noise !\n",
    "    x_train = np.delete(train_final, 0, axis = 1)\n",
    "    y_val = validation_final[:,0]\n",
    "    x_val = np.delete(validation_final, 0, axis = 1)\n",
    "    Mean_loss = {'Matrix' : 0, \n",
    "                 'GD'     : 0,\n",
    "                 'KNN'    : 0\n",
    "                }\n",
    "    \n",
    "    try : \n",
    "        A = np.c_[np.ones((x_train.shape[0],1)), x_train]\n",
    "        w_mat =  np.linalg.inv(A.T.dot(A)).dot(A.T).dot(y_train)\n",
    "        x_val_modif = np.c_[np.ones((x_val.shape[0],1)), x_val]\n",
    "        y_pred_mat = x_val_modif@w_mat\n",
    "        Mean_loss[\"Matrix\"] = np.power(np.power(y_pred_mat - y_val, 2), 0.5).sum()/y_pred_mat.shape[0]\n",
    "    except : \n",
    "        print('Non singular matrix')\n",
    "        \n",
    "    LR_GD = Linear_Regressor_GD()\n",
    "    LR_GD.fit(x_train, y_train)\n",
    "    y_pred_GD = LR_GD.predict(x_val)\n",
    "    Mean_loss[\"GD\"] = np.power((np.power((y_pred_GD - y_val), 2)).sum(), 0.5)/y_pred_GD.shape[0]\n",
    "    clf = KNeighborsRegressor(n_neighbors = 5, metric = 'minkowski', p = 2)\n",
    "\n",
    "    clf.fit(x_train,y_train)\n",
    "\n",
    "    y_pred_knn = clf.predict(x_val)\n",
    "    Mean_loss[\"KNN\"] = np.power((np.power((y_pred_knn - y_val), 2)).sum(), 0.5)/y_pred_knn.shape[0]\n",
    "    \n",
    "    print('The loss for index {} is'.format(index), end = ' ')\n",
    "    print(Mean_loss)"
   ]
  },
  {
   "cell_type": "code",
   "execution_count": 75,
   "id": "3f2d4874",
   "metadata": {},
   "outputs": [
    {
     "name": "stdout",
     "output_type": "stream",
     "text": [
      "The loss for index 0 is {'Matrix': 0.14572170833521064, 'GD': 0.0069058497752771866, 'KNN': 0.0006309001624399742}\n",
      "The loss for index 1 is {'Matrix': 2.22946082788236, 'GD': 0.006856835385896381, 'KNN': 0.0006208261478132866}\n",
      "The loss for index 2 is {'Matrix': 1.319013227740677, 'GD': 0.006847686809300846, 'KNN': 0.0006198656070249202}\n",
      "The loss for index 3 is {'Matrix': 0.20739947754208116, 'GD': 0.007264929791306765, 'KNN': 0.0006224847216804322}\n",
      "The loss for index 4 is {'Matrix': 0.26981313606578294, 'GD': 0.0073493366150779805, 'KNN': 0.0006251056650420739}\n",
      "The loss for index 5 is {'Matrix': 0.21159529059603716, 'GD': 0.006049371540878717, 'KNN': 0.0006264362222534707}\n",
      "The loss for index 6 is {'Matrix': 1.3246186318340787, 'GD': 0.007038536882102202, 'KNN': 0.0006184535543647252}\n",
      "The loss for index 7 is {'Matrix': 3.555145179473916, 'GD': 0.006647424550695528, 'KNN': 0.0006327770523889104}\n",
      "The loss for index 8 is {'Matrix': 0.13716687004169809, 'GD': 0.0064738018354341745, 'KNN': 0.0006313112498151947}\n",
      "The loss for index 9 is {'Matrix': 0.7222506953789756, 'GD': 0.006493789219018744, 'KNN': 0.0006264595019893088}\n",
      "The loss for index 10 is {'Matrix': 0.33903869388787505, 'GD': 0.007143269039269347, 'KNN': 0.0006296555408070731}\n",
      "The loss for index 11 is {'Matrix': 0.4763082699635316, 'GD': 0.006705391162064262, 'KNN': 0.0006178069831376992}\n",
      "The loss for index 12 is {'Matrix': 0.10526893774520908, 'GD': 0.007140911243908853, 'KNN': 0.0006299503223066973}\n",
      "The loss for index 13 is {'Matrix': 1.6054853140645629, 'GD': 0.006822432038393662, 'KNN': 0.0006256137245699184}\n",
      "The loss for index 14 is {'Matrix': 0.3350976384182906, 'GD': 0.007049472216227063, 'KNN': 0.0006125940512544208}\n"
     ]
    }
   ],
   "source": [
    "for index in range(0,len(splitted_training_data)) :\n",
    "    validation_final = np.array(splitted_training_data[index])\n",
    "    train_final_array = splitted_training_data[:index] + splitted_training_data[index+1:]\n",
    "    train_final = train_final_array[0]\n",
    "#     print(len(train_final_array))\n",
    "    for i in range(1,len(train_final_array)):\n",
    "#         print(i, end = ' ')\n",
    "        train_final = np.concatenate((train_final, train_final_array[i]), axis = 0)   \n",
    "    y_train = train_final[:,0] + 0.1*np.random.normal(0,1,len(train_final))\n",
    "    x_train = np.delete(train_final, 0, axis = 1)\n",
    "    y_val = validation_final[:,0]\n",
    "    x_val = np.delete(validation_final, 0, axis = 1)\n",
    "    Mean_loss = {'Matrix' : 0, \n",
    "                 'GD'     : 0,\n",
    "                 'KNN'    : 0\n",
    "                }\n",
    "    \n",
    "    try : \n",
    "        A = np.c_[np.ones((x_train.shape[0],1)), x_train]\n",
    "        w_mat =  np.linalg.inv(A.T.dot(A)).dot(A.T).dot(y_train)\n",
    "        x_val_modif = np.c_[np.ones((x_val.shape[0],1)), x_val]\n",
    "        y_pred_mat = x_val_modif@w_mat\n",
    "        Mean_loss[\"Matrix\"] = np.power(np.power(y_pred_mat - y_val, 2), 0.5).sum()/y_pred_mat.shape[0]\n",
    "    except : \n",
    "        print('Non singular matrix')\n",
    "        \n",
    "    LR_GD = Linear_Regressor_GD()\n",
    "    LR_GD.fit(x_train, y_train)\n",
    "    y_pred_GD = LR_GD.predict(x_val)\n",
    "    Mean_loss[\"GD\"] = np.power((np.power((y_pred_GD - y_val), 2)).sum(), 0.5)/y_pred_GD.shape[0]\n",
    "    clf = KNeighborsRegressor(n_neighbors = 5, metric = 'minkowski', p = 2)\n",
    "\n",
    "    clf.fit(x_train,y_train)\n",
    "\n",
    "    y_pred_knn = clf.predict(x_val)\n",
    "    Mean_loss[\"KNN\"] = np.power((np.power((y_pred_knn - y_val), 2)).sum(), 0.5)/y_pred_knn.shape[0]\n",
    "    \n",
    "    print('The loss for index {} is'.format(index), end = ' ')\n",
    "    print(Mean_loss)"
   ]
  },
  {
   "cell_type": "markdown",
   "id": "b8982121",
   "metadata": {},
   "source": [
    "### Notable observation - \n",
    "\n",
    "The Matrix model gets better with noise while and KNN react negatievely to it...Grad descent shows slightly negative behaviour!\n",
    "\n",
    "Since the data is syntheic and clean, it had to happen. \n",
    "But in real world, we have noise data and in those cases, its not best to use KNN since it will take too much time and would not be able to predict properly unless we do rigourous cleaning using some decision based model first which makes it too complex...thus for noisy data, grad descent and matrix method are good. For higher dimentional data, KNN is not recommended at all. "
   ]
  }
 ],
 "metadata": {
  "kernelspec": {
   "display_name": "Python 3 (ipykernel)",
   "language": "python",
   "name": "python3"
  },
  "language_info": {
   "codemirror_mode": {
    "name": "ipython",
    "version": 3
   },
   "file_extension": ".py",
   "mimetype": "text/x-python",
   "name": "python",
   "nbconvert_exporter": "python",
   "pygments_lexer": "ipython3",
   "version": "3.9.12"
  }
 },
 "nbformat": 4,
 "nbformat_minor": 5
}
